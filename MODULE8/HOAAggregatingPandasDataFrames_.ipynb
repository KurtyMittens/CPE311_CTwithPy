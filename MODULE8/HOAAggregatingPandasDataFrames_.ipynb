{
  "nbformat": 4,
  "nbformat_minor": 0,
  "metadata": {
    "colab": {
      "private_outputs": true,
      "provenance": []
    },
    "kernelspec": {
      "name": "python3",
      "display_name": "Python 3"
    },
    "language_info": {
      "name": "python"
    }
  },
  "cells": [
    {
      "cell_type": "markdown",
      "source": [
        "# Hands-on Activity 8.1: Aggregating Data with Pandas\n",
        "\n",
        "---\n",
        "\n"
      ],
      "metadata": {
        "id": "lpIqC0MvOYSH"
      }
    },
    {
      "cell_type": "markdown",
      "source": [
        "## 8.1.1 Intended Learning Outcomes"
      ],
      "metadata": {
        "id": "kw9-gN3tOygP"
      }
    },
    {
      "cell_type": "markdown",
      "source": [
        "After this activity, the student should be able to:\n",
        "- Demonstrate querying and merging of dataframes\n",
        "- Perform advanced calculations on dataframes\n",
        "- Aggregate dataframes with pandas and numpy\n",
        "- Work with time series data"
      ],
      "metadata": {
        "id": "WQtNGmYcO2zC"
      }
    },
    {
      "cell_type": "markdown",
      "source": [
        "## 8.1.2 Resources"
      ],
      "metadata": {
        "id": "ZZ424zlVO-Lu"
      }
    },
    {
      "cell_type": "markdown",
      "source": [
        "- Computing Environment using Python 3.x\n",
        "- Attached Datasets (under Instructional Materials)"
      ],
      "metadata": {
        "id": "SWwcwzcnPBmj"
      }
    },
    {
      "cell_type": "markdown",
      "source": [
        "## 8.1.3 Procedures"
      ],
      "metadata": {
        "id": "6gPSKTEDPF6L"
      }
    },
    {
      "cell_type": "markdown",
      "source": [
        "The procedures can be found in the canvas module. Check the following under topics:\n",
        "- 8.1 Weather Data Collection\n",
        "- 8.2 Querying and Merging\n",
        "- 8.3 Dataframe Operations\n",
        "- 8.4 Aggregations\n",
        "- 8.5 Time Series"
      ],
      "metadata": {
        "id": "VuNHGq1RPImy"
      }
    },
    {
      "cell_type": "markdown",
      "source": [
        "## 8.1.4 Data Analysis\n"
      ],
      "metadata": {
        "id": "xD2FeFsPPPsS"
      }
    },
    {
      "cell_type": "markdown",
      "source": [
        "Provide some comments here about the results of the procedures"
      ],
      "metadata": {
        "id": "xIe8bYeiPS5J"
      }
    },
    {
      "cell_type": "markdown",
      "source": [
        "## 8.1.5 Supplementary Activity"
      ],
      "metadata": {
        "id": "ExrmO3pFPUxk"
      }
    },
    {
      "cell_type": "markdown",
      "source": [
        "Using the CSV files provided and what we have learned so far in this module complete the following exercises"
      ],
      "metadata": {
        "id": "EOOWWesZPYFA"
      }
    },
    {
      "cell_type": "code",
      "source": [
        "import pandas as pd\n",
        "import numpy as np\n",
        "\n",
        "earthquake_df = pd.DataFrame(pd.read_csv(\"/content/sample_data/earthquakes.csv\")) # reading and making a dtaframe from earthquake.csv\n",
        "faang_df = pd.DataFrame(pd.read_csv(\"/content/sample_data/faang.csv\")) # same to this!"
      ],
      "metadata": {
        "id": "hb9o0Y18PPcj"
      },
      "execution_count": null,
      "outputs": []
    },
    {
      "cell_type": "code",
      "source": [
        "earthquake_df.head(10) # earthquake dataframe"
      ],
      "metadata": {
        "id": "HI4vEriGZUzp"
      },
      "execution_count": null,
      "outputs": []
    },
    {
      "cell_type": "code",
      "source": [
        "faang_df.head(10)"
      ],
      "metadata": {
        "id": "86ogaR4YZYh5"
      },
      "execution_count": null,
      "outputs": []
    },
    {
      "cell_type": "markdown",
      "source": [
        "With the earthquakes.csv file, select all the earthquakes in Japan with a magType of mb and a magnitude of 4.9 or greater."
      ],
      "metadata": {
        "id": "NlmGMUQKRKQS"
      }
    },
    {
      "cell_type": "code",
      "source": [
        "earthquake_df.query('magType == \"mb\" and mag > 4.9') # Simple method"
      ],
      "metadata": {
        "id": "EBv8wsxISiyw"
      },
      "execution_count": null,
      "outputs": []
    },
    {
      "cell_type": "code",
      "source": [
        "earthquake_df[(earthquake_df['magType'] == 'mb') & (earthquake_df['mag'] > 4.9)] # Straight-to-the point method"
      ],
      "metadata": {
        "id": "_y1y08w5RJaz"
      },
      "execution_count": null,
      "outputs": []
    },
    {
      "cell_type": "markdown",
      "source": [
        "Create bins for each full number of magnitude (for example, the first bin is 0-1, the second is 1-2, and so on) with a magType of ml and count how many are in each bin."
      ],
      "metadata": {
        "id": "eoJF8e2ASVsS"
      }
    },
    {
      "cell_type": "code",
      "source": [
        "earthquake_magBin = pd.cut(earthquake_df.query('magType == \"ml\"').mag, bins=6, labels=['0-1', '1-2', '2-3', '3-4', '4-5', '5-6'])\n",
        "earthquake_magBin.value_counts()"
      ],
      "metadata": {
        "id": "YguT72-DWJ-h"
      },
      "execution_count": null,
      "outputs": []
    },
    {
      "cell_type": "code",
      "source": [],
      "metadata": {
        "id": "hLphizfujCmV"
      },
      "execution_count": null,
      "outputs": []
    },
    {
      "cell_type": "markdown",
      "source": [
        "Using the faang.csv file, group by the ticker and resample to monthly frequency. Make the following aggregations"
      ],
      "metadata": {
        "id": "4W5e6JOZY13c"
      }
    },
    {
      "cell_type": "markdown",
      "source": [
        "- Mean of the opening price\n",
        "- Maximum of the high price\n",
        "- Minimum of the low price\n",
        "- Mean of the closing price\n",
        "- Sum of the volume traded"
      ],
      "metadata": {
        "id": "LbefBcBZZKEB"
      }
    },
    {
      "cell_type": "code",
      "source": [
        "aggFang = faang_df.groupby(\"ticker\").agg(\n",
        "    {\n",
        "        'open': 'mean',\n",
        "        'high':'max',\n",
        "        'low':'min',\n",
        "        'close':'mean',\n",
        "        'volume': 'sum'\n",
        "    }\n",
        ")\n",
        "aggFang"
      ],
      "metadata": {
        "id": "usEjC3jNZJlH"
      },
      "execution_count": null,
      "outputs": []
    },
    {
      "cell_type": "markdown",
      "source": [
        "Build a crosstab with the earthquake data between the tsunami column and the magType column. Rather than showing the frequency count, show the maximum\n",
        "magnitude that was observed for each combination. Put the magType along the columns."
      ],
      "metadata": {
        "id": "9f_yUctIbzFd"
      }
    },
    {
      "cell_type": "code",
      "source": [
        "pop = pd.crosstab(\n",
        "    index=earthquake_df.tsunami,\n",
        "    columns=earthquake_df.magType,\n",
        ")\n",
        "pd.DataFrame(pop.max(), columns= [\"Tsunami\"])"
      ],
      "metadata": {
        "id": "KsNo8e1nbyUG"
      },
      "execution_count": null,
      "outputs": []
    },
    {
      "cell_type": "code",
      "source": [],
      "metadata": {
        "id": "q_oe-E1eoEYY"
      },
      "execution_count": null,
      "outputs": []
    }
  ]
}
