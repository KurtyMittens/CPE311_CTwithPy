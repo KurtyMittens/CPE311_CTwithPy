{
  "nbformat": 4,
  "nbformat_minor": 0,
  "metadata": {
    "colab": {
      "private_outputs": true,
      "provenance": []
    },
    "kernelspec": {
      "name": "python3",
      "display_name": "Python 3"
    },
    "language_info": {
      "name": "python"
    }
  },
  "cells": [
    {
      "cell_type": "markdown",
      "source": [
        "# Database-style Operations on Dataframes"
      ],
      "metadata": {
        "id": "hS0z3MSlC1QJ"
      }
    },
    {
      "cell_type": "markdown",
      "source": [
        "## About the data"
      ],
      "metadata": {
        "id": "pDzi3lYdC3vh"
      }
    },
    {
      "cell_type": "markdown",
      "source": [
        "In this notebook, we will using daily weather data that was taken from the National Centers for Environmental Information (NCEI) API. The data collection notebook contains\n",
        "the process that was followed to collect the data."
      ],
      "metadata": {
        "id": "o_vcSIFIC6n5"
      }
    },
    {
      "cell_type": "markdown",
      "source": [
        "Note: The NCEI is part of the National Oceanic and Atmospheric Administration (NOAA) and, as you can see from the URL for the API, this resource was created when the\n",
        "NCEI was called the NCDC. Should the URL for this resource change in the future, you can search for the NCEI weather API to find the updated one"
      ],
      "metadata": {
        "id": "z8UjlHW-C8W3"
      }
    },
    {
      "cell_type": "markdown",
      "source": [
        "## Background on the data"
      ],
      "metadata": {
        "id": "4VJV0Y67C-Ey"
      }
    },
    {
      "cell_type": "markdown",
      "source": [
        "Data meanings:\n",
        "- RCP : precipitation in millimeters\n",
        "- SNOW : snowfall in millimeters\n",
        "- SNWD : snow depth in millimeters\n",
        "- TMAX : maximum daily temperature in Celsius\n",
        "- TMIN : minimum daily temperature in Celsius\n",
        "- TOBS : temperature at time of observation in Celsius\n",
        "- WESF : water equivalent of snow in millimeters"
      ],
      "metadata": {
        "id": "fv2hqjjJDAu0"
      }
    },
    {
      "cell_type": "markdown",
      "source": [
        "## Setup"
      ],
      "metadata": {
        "id": "lWVCZhNEDJkq"
      }
    },
    {
      "cell_type": "code",
      "source": [
        "import pandas as pd # initializing Pandas\n",
        "\n",
        "weather = pd.read_csv('/content/nyc_weather_2018.csv')\n",
        "weather.head()"
      ],
      "metadata": {
        "id": "ZpetnWZzC07_"
      },
      "execution_count": null,
      "outputs": []
    },
    {
      "cell_type": "markdown",
      "source": [
        "## Querying DataFrames"
      ],
      "metadata": {
        "id": "ZAvMVV1vF7V9"
      }
    },
    {
      "cell_type": "markdown",
      "source": [
        "The query() method is an easier way of filtering based on some criteria. For example, we can use it to find all entries where snow was recorded"
      ],
      "metadata": {
        "id": "N9PIpeFWF-he"
      }
    },
    {
      "cell_type": "code",
      "execution_count": null,
      "metadata": {
        "id": "t3fXoBAECxl_"
      },
      "outputs": [],
      "source": [
        "# query like in the SQL/Dabase Manaagement system. SELECT * FROM * WHERE (conditions met)\n",
        "snow_data = weather.query('datatype == \"SNOW\" and value > 0')\n",
        "snow_data.head()"
      ]
    },
    {
      "cell_type": "markdown",
      "source": [
        "This is equivalent to quering the data/weather.db SQLite database for SELECT * FROM weather WHERE datatype == \"SNOW\" AND value > 0 :"
      ],
      "metadata": {
        "id": "FvXIkdD5GfWj"
      }
    },
    {
      "cell_type": "code",
      "source": [
        "import sqlite3\n",
        "\n",
        "# an effiecient way to connect into your database, with this you can safely rewrite your databasse if theirs already a file\n",
        "with sqlite3.connect('/content/weather.db') as connection:\n",
        "  snow_data_from_db = pd.read_sql(\n",
        "      'SELECT * FROM weather WHERE datatype == \"SNOW\" AND value > 0',\n",
        "      connection\n",
        "  )"
      ],
      "metadata": {
        "id": "icXH31hTGgUt"
      },
      "execution_count": null,
      "outputs": []
    },
    {
      "cell_type": "code",
      "source": [
        "snow_data.reset_index().drop(columns='index').equals(snow_data_from_db)"
      ],
      "metadata": {
        "id": "gz8EvKOBIi4x"
      },
      "execution_count": null,
      "outputs": []
    },
    {
      "cell_type": "markdown",
      "source": [
        "Note this is also equivalent to creating Boolean masks:"
      ],
      "metadata": {
        "id": "6TNpgPhXzBx4"
      }
    },
    {
      "cell_type": "code",
      "source": [
        "weather[(weather.datatype == 'SNOW') & (weather.value > 0)].equals(snow_data) # Boolean mask are also a way to get yyour desired query"
      ],
      "metadata": {
        "id": "xVswmCCqJkAh"
      },
      "execution_count": null,
      "outputs": []
    },
    {
      "cell_type": "markdown",
      "source": [
        "## Merging DataFrames"
      ],
      "metadata": {
        "id": "X2lJlQXMzYD0"
      }
    },
    {
      "cell_type": "markdown",
      "source": [
        "We have data for many different stations each day; however, we don't know what the stations are just their IDs. We can join the data in the data/weather_stations.csv\n",
        "file which contains information from the stations endpoint of the NCEI API. Consult the weather_data_collection.ipynb notebook to see how this was collected. It looks like this:"
      ],
      "metadata": {
        "id": "FijCZKdizcxz"
      }
    },
    {
      "cell_type": "code",
      "source": [
        "station_info = pd.read_csv('/content/weather_stations.csv')\n",
        "station_info.head()"
      ],
      "metadata": {
        "id": "HrqQJo52z9GM"
      },
      "execution_count": null,
      "outputs": []
    },
    {
      "cell_type": "markdown",
      "source": [
        "As a reminder, the weather data looks like this:"
      ],
      "metadata": {
        "id": "4fiEQw0R0Jix"
      }
    },
    {
      "cell_type": "code",
      "source": [
        "weather.head()"
      ],
      "metadata": {
        "id": "1Szus26u0NqQ"
      },
      "execution_count": null,
      "outputs": []
    },
    {
      "cell_type": "markdown",
      "source": [
        "We can join our data by matching up the station_info.id column with the weather.station column. Before doing that though, let's see how many unique values we\n",
        "have:"
      ],
      "metadata": {
        "id": "uTF7f9S30Vcg"
      }
    },
    {
      "cell_type": "code",
      "source": [
        "station_info.id.describe()"
      ],
      "metadata": {
        "id": "8WNSFTOQ0Wnn"
      },
      "execution_count": null,
      "outputs": []
    },
    {
      "cell_type": "markdown",
      "source": [
        "While station_info has one row per station, the weather dataframe has many entries per station. Notice it also has fewer uniques:"
      ],
      "metadata": {
        "id": "8EfK_Qjb0Zni"
      }
    },
    {
      "cell_type": "code",
      "source": [
        "weather.station.describe()"
      ],
      "metadata": {
        "id": "8Hs-nBaK0eO_"
      },
      "execution_count": null,
      "outputs": []
    },
    {
      "cell_type": "markdown",
      "source": [
        "When working with joins, it is important to keep an eye on the row count. Some join types will lead to data loss:"
      ],
      "metadata": {
        "id": "aIsdDAft0eyh"
      }
    },
    {
      "cell_type": "code",
      "source": [
        "station_info.shape[0], weather.shape[0]"
      ],
      "metadata": {
        "id": "Lz4t0T7b0i77"
      },
      "execution_count": null,
      "outputs": []
    },
    {
      "cell_type": "markdown",
      "source": [
        "Since we will be doing this often, it makes more sense to write a function:"
      ],
      "metadata": {
        "id": "lsYkDrwj0jcc"
      }
    },
    {
      "cell_type": "code",
      "source": [
        "def get_row_count(*dfs):\n",
        "  return [df.shape[0] for df in dfs]\n",
        "get_row_count(station_info, weather)"
      ],
      "metadata": {
        "id": "r3pIcWf20nFT"
      },
      "execution_count": null,
      "outputs": []
    },
    {
      "cell_type": "markdown",
      "source": [
        "The map() function is more efficient than list comprehensions. We can couple this with getattr() to grab any attribute for multiple dataframes:"
      ],
      "metadata": {
        "id": "0TNV-w8j0oAU"
      }
    },
    {
      "cell_type": "code",
      "source": [
        "def get_info(attr, *dfs):\n",
        "  return list(map(lambda x: getattr(x, attr), dfs))\n",
        "get_info('shape', station_info, weather)"
      ],
      "metadata": {
        "id": "5D91QAGv0x_W"
      },
      "execution_count": null,
      "outputs": []
    },
    {
      "cell_type": "markdown",
      "source": [
        "By default merge() performs an inner join. We simply specify the columns to use for the join. The left dataframe is the one we call merge() on, and the right one is\n",
        "passed in as an argument:"
      ],
      "metadata": {
        "id": "OZEjUgRT01Mn"
      }
    },
    {
      "cell_type": "markdown",
      "source": [
        "![image.png](data:image/png;base64,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)"
      ],
      "metadata": {
        "id": "uuP-mGqwJt19"
      }
    },
    {
      "cell_type": "code",
      "source": [
        "inner_join = weather.merge(station_info, left_on='station',\n",
        "                           right_on='id')\n",
        "inner_join.sample(5, random_state=0)"
      ],
      "metadata": {
        "id": "BNn426wr02SN"
      },
      "execution_count": null,
      "outputs": []
    },
    {
      "cell_type": "markdown",
      "source": [
        "We can remove the duplication of information in the station and id columns by renaming one of them before the merge and then simply using on :"
      ],
      "metadata": {
        "id": "Z1GaEE9V03Q9"
      }
    },
    {
      "cell_type": "code",
      "source": [
        "weather.merge(station_info.rename(dict(id='station'), axis=1),\n",
        "              on='station').sample(5, random_state=0)"
      ],
      "metadata": {
        "id": "-zIfddbj088O"
      },
      "execution_count": null,
      "outputs": []
    },
    {
      "cell_type": "markdown",
      "source": [
        "We are losing stations that don't have weather observations associated with them, if we don't want to lose these rows, we perform a right or left join instead of the inner join:"
      ],
      "metadata": {
        "id": "BYsLPhKT09dA"
      }
    },
    {
      "cell_type": "markdown",
      "source": [
        "![image.png](data:image/png;base64,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)\n",
        "\n",
        "![image.png](data:image/png;base64,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)"
      ],
      "metadata": {
        "id": "D76T8r0FJ8_p"
      }
    },
    {
      "cell_type": "code",
      "source": [
        "left_join = station_info.merge(weather, left_on='id',\n",
        "                              right_on='station', how='left')\n",
        "right_join = weather.merge(station_info, left_on='station',\n",
        "                           right_on='id', how='right')\n",
        "right_join.tail()"
      ],
      "metadata": {
        "id": "Blltus0A1CHu"
      },
      "execution_count": null,
      "outputs": []
    },
    {
      "cell_type": "markdown",
      "source": [
        "The left and right join as we performed above are equivalent because the side that we kept the rows without matches was the same in both cases:"
      ],
      "metadata": {
        "id": "Rs544jt51Hf-"
      }
    },
    {
      "cell_type": "code",
      "source": [
        "left_join.sort_index(\n",
        "    axis=1).sort_values(\n",
        "        ['date', 'station']).reset_index().drop(\n",
        "            columns='index').equals(\n",
        "\n",
        "right_join.sort_index(\n",
        "    axis=1).sort_values(\n",
        "        ['date', 'station']).reset_index().drop(\n",
        "            columns='index')\n",
        ")"
      ],
      "metadata": {
        "id": "d4sHAR5S1IV5"
      },
      "execution_count": null,
      "outputs": []
    },
    {
      "cell_type": "markdown",
      "source": [
        "Note we have additional rows in the left and right joins because we kept all the stations that didn't have weather observations:"
      ],
      "metadata": {
        "id": "1QoVeBzV1Ir7"
      }
    },
    {
      "cell_type": "code",
      "source": [
        "get_info('shape', inner_join, left_join, right_join)"
      ],
      "metadata": {
        "id": "u53Au4Qr1Nxh"
      },
      "execution_count": null,
      "outputs": []
    },
    {
      "cell_type": "markdown",
      "source": [
        "If we query the station information for stations that have NY in their name, believing that to be all the stations that record weather data for NYC and perform an outer join, we\n",
        "can see where the mismatches occur:"
      ],
      "metadata": {
        "id": "J95oQlNV1WQQ"
      }
    },
    {
      "cell_type": "code",
      "source": [
        "outer_join = weather.merge(\n",
        "  station_info[station_info.name.str.contains('NY')],\n",
        "  left_on='station', right_on='id', how='outer', indicator=True\n",
        ")\n",
        "outer_join.sample(\n",
        "    4, random_state=0).append(\n",
        "        outer_join[outer_join.station.isna()].head(2))"
      ],
      "metadata": {
        "id": "l9XvHsIg1X7F"
      },
      "execution_count": null,
      "outputs": []
    },
    {
      "cell_type": "markdown",
      "source": [
        "These joins are equivalent to their SQL counterparts. Below is the inner join. Note that to use equals() you will have to do some manipulation of the dataframes to line\n",
        "them up:"
      ],
      "metadata": {
        "id": "W6HGjrpH1Yed"
      }
    },
    {
      "cell_type": "code",
      "source": [
        "import sqlite3\n",
        "with sqlite3.connect('/content/weather.db') as connection:\n",
        "  inner_join_from_db = pd.read_sql(\n",
        "  'SELECT * FROM weather JOIN stations ON weather.station == stations.id',\n",
        "  connection\n",
        "  )\n",
        "\n",
        "inner_join_from_db.shape == inner_join.shape #checking is the tables are equals"
      ],
      "metadata": {
        "id": "pP8kJzoT1eG8"
      },
      "execution_count": null,
      "outputs": []
    },
    {
      "cell_type": "markdown",
      "source": [
        "Revisit the dirty data from the previous module."
      ],
      "metadata": {
        "id": "u3wQyyMw1emm"
      }
    },
    {
      "cell_type": "code",
      "source": [
        "dirty_data = pd.read_csv(\n",
        "  '/content/dirty_data.csv', index_col='date'\n",
        ").drop_duplicates().drop(columns='SNWD')\n",
        "dirty_data.head()"
      ],
      "metadata": {
        "id": "GzCJJuOd1j0l"
      },
      "execution_count": null,
      "outputs": []
    },
    {
      "cell_type": "markdown",
      "source": [
        "We need to create two dataframes for the join. We will drop some unecessary columns as well for easier viewing:"
      ],
      "metadata": {
        "id": "fRQsIdeS1klp"
      }
    },
    {
      "cell_type": "code",
      "source": [
        "valid_station = dirty_data.query('station != \"?\"').copy().drop(\n",
        "    columns=['WESF', 'station'])\n",
        "station_with_wesf = dirty_data.query('station == \"?\"').copy().drop(\n",
        "    columns=['station', 'TOBS', 'TMIN', 'TMAX'])"
      ],
      "metadata": {
        "id": "1MDYiE5F1ytI"
      },
      "execution_count": null,
      "outputs": []
    },
    {
      "cell_type": "markdown",
      "source": [
        "Our column for the join is the index in both dataframes, so we must specify left_index and right_index :"
      ],
      "metadata": {
        "id": "UOG_VqOI1zIO"
      }
    },
    {
      "cell_type": "code",
      "source": [
        "valid_station.merge(\n",
        "  station_with_wesf, left_index=True, right_index=True\n",
        ").query('WESF > 0').head()"
      ],
      "metadata": {
        "id": "t1HmLAL11zvR"
      },
      "execution_count": null,
      "outputs": []
    },
    {
      "cell_type": "markdown",
      "source": [
        "The columns that existed in both dataframes, but didn't form part of the join got suffixes added to their names: _x for columns from the left dataframe and _y for columns\n",
        "from the right dataframe. We can customize this with the suffixes argument:"
      ],
      "metadata": {
        "id": "-jUpkoNt10Uw"
      }
    },
    {
      "cell_type": "code",
      "source": [
        "valid_station.merge(\n",
        "station_with_wesf, left_index=True, right_index=True, suffixes=(\n",
        "    '', '_?')\n",
        ").query('WESF > 0').head()"
      ],
      "metadata": {
        "id": "0HTfvw2G131Y"
      },
      "execution_count": null,
      "outputs": []
    },
    {
      "cell_type": "markdown",
      "source": [
        "Since we are joining on the index, an easier way is to use the join() method instead of merge() . Note that the suffix parameter is now lsuffix for the left dataframe's\n",
        "suffix and rsuffix for the right one's:"
      ],
      "metadata": {
        "id": "bXPt2z-g14Rf"
      }
    },
    {
      "cell_type": "code",
      "source": [
        "valid_station.join(\n",
        "    station_with_wesf, rsuffix='_?').query('WESF > 0').head()"
      ],
      "metadata": {
        "id": "LA6_HwmyK4Ve"
      },
      "execution_count": null,
      "outputs": []
    },
    {
      "cell_type": "markdown",
      "source": [
        "Joins can be very resource-intensive, so it's a good idea to figure out what type of join you need using set operations before trying the join itself. The pandas set operations\n",
        "are performed on the index, so whichever columns we will be joining on will need to be the index. Let's go back to the weather and station_info dataframes and set\n",
        "the station ID columns as the index:"
      ],
      "metadata": {
        "id": "2KPcHlyv1-OU"
      }
    },
    {
      "cell_type": "code",
      "source": [
        "weather.set_index('station', inplace=True)\n",
        "station_info.set_index('id', inplace=True)"
      ],
      "metadata": {
        "id": "fXaKvaWX2D2i"
      },
      "execution_count": null,
      "outputs": []
    },
    {
      "cell_type": "markdown",
      "source": [
        "The intersection will tell us the stations that are present in both dataframes. The result will be the index when performing an inner join:"
      ],
      "metadata": {
        "id": "tOBwhP232EWA"
      }
    },
    {
      "cell_type": "code",
      "source": [
        "weather.index.intersection(station_info.index)"
      ],
      "metadata": {
        "id": "ZYegw1ww2KId"
      },
      "execution_count": null,
      "outputs": []
    },
    {
      "cell_type": "markdown",
      "source": [
        "The set difference will tell us what we lose from each side. When performing an inner join, we lose nothing from the weather dataframe:"
      ],
      "metadata": {
        "id": "s2OM_8QY2Ikr"
      }
    },
    {
      "cell_type": "code",
      "source": [
        "weather.index.difference(station_info.index)"
      ],
      "metadata": {
        "id": "v-rzi1Gp2R2A"
      },
      "execution_count": null,
      "outputs": []
    },
    {
      "cell_type": "code",
      "source": [
        "station_info.index.difference(weather.index)"
      ],
      "metadata": {
        "id": "NHtL6tch2aQg"
      },
      "execution_count": null,
      "outputs": []
    },
    {
      "cell_type": "markdown",
      "source": [
        "The symmetric difference will tell us what gets lost from both sides. It is the combination of the set difference in both directions:"
      ],
      "metadata": {
        "id": "sRtI1E2O2SV6"
      }
    },
    {
      "cell_type": "code",
      "source": [
        "ny_in_name = station_info[station_info.name.str.contains('NY')]\n",
        "ny_in_name.index.difference(weather.index).shape[0]\\\n",
        "+ weather.index.difference(ny_in_name.index).shape[0]\\\n",
        "== weather.index.symmetric_difference(ny_in_name.index).shape[0]"
      ],
      "metadata": {
        "id": "xglXWJJ_LsyI"
      },
      "execution_count": null,
      "outputs": []
    },
    {
      "cell_type": "markdown",
      "source": [
        "The union will show us everything that will be present after a full outer join. Note that since these are sets (which don't allow duplicates by definition), we must pass unique\n",
        "entries for union:"
      ],
      "metadata": {
        "id": "Qra4feOd2atd"
      }
    },
    {
      "cell_type": "code",
      "source": [
        "weather.index.unique().union(station_info.index)"
      ],
      "metadata": {
        "id": "Llrm36XR2bR3"
      },
      "execution_count": null,
      "outputs": []
    },
    {
      "cell_type": "markdown",
      "source": [
        "Note that the symmetric difference is actually the union of the set differences:"
      ],
      "metadata": {
        "id": "DDf1zw782btP"
      }
    },
    {
      "cell_type": "code",
      "source": [
        "ny_in_name = station_info[station_info.name.str.contains('NY')]\n",
        "ny_in_name.index.difference(weather.index).union(\n",
        "    weather.index.difference(ny_in_name.index)).equals(\n",
        "weather.index.symmetric_difference(ny_in_name.index)\n",
        ")"
      ],
      "metadata": {
        "id": "0etkOv1J2fLC"
      },
      "execution_count": null,
      "outputs": []
    }
  ]
}