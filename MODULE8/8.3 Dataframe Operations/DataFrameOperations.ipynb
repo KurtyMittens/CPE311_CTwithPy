{
  "nbformat": 4,
  "nbformat_minor": 0,
  "metadata": {
    "colab": {
      "private_outputs": true,
      "provenance": []
    },
    "kernelspec": {
      "name": "python3",
      "display_name": "Python 3"
    },
    "language_info": {
      "name": "python"
    }
  },
  "cells": [
    {
      "cell_type": "markdown",
      "source": [
        "# DataFrame Operations"
      ],
      "metadata": {
        "id": "zK66-zqW5Rxe"
      }
    },
    {
      "cell_type": "markdown",
      "source": [
        "## About the Data"
      ],
      "metadata": {
        "id": "GPH57oL05Vt5"
      }
    },
    {
      "cell_type": "markdown",
      "source": [
        "In this notebook, we will be working with 2 data sets:\n",
        "- Facebook's stock price throughout 2018 (obtained using the stock_analysis package).\n",
        "- daily weather data for NYC from the National Centers for Environmental Information (NCEI) API."
      ],
      "metadata": {
        "id": "Uo7-uaRN5adg"
      }
    },
    {
      "cell_type": "markdown",
      "source": [
        "Note: The NCEI is part of the National Oceanic and Atmospheric Administration (NOAA) and, as you can see from the URL for the API, this resource was created when the\n",
        "NCEI was called the NCDC. Should the URL for this resource change in the future, you can search for the NCEI weather API to find the updated one."
      ],
      "metadata": {
        "id": "YxUQD_uk5fzx"
      }
    },
    {
      "cell_type": "markdown",
      "source": [
        "## Background on the weather data"
      ],
      "metadata": {
        "id": "vCnjZ4xY5i8x"
      }
    },
    {
      "cell_type": "markdown",
      "source": [
        "Data meanings:\n",
        "- AWND : average wind speed\n",
        "- PRCP : precipitation in millimeters\n",
        "- SNOW : snowfall in millimeters\n",
        "- SNWD : snow depth in millimeters\n",
        "- TMAX : maximum daily temperature in Celsius\n",
        "- TMIN : minimum daily temperature in Celsius"
      ],
      "metadata": {
        "id": "GCQGzOyl5non"
      }
    },
    {
      "cell_type": "markdown",
      "source": [
        "## Setup"
      ],
      "metadata": {
        "id": "Y3C7RkJN5v_f"
      }
    },
    {
      "cell_type": "code",
      "source": [
        "import numpy as np\n",
        "import pandas as pd\n",
        "\n",
        "weather = pd.read_csv('/content/nyc_weather_2018.csv', parse_dates=['date'])\n",
        "weather.head()"
      ],
      "metadata": {
        "id": "feCR3xub5zD_"
      },
      "execution_count": null,
      "outputs": []
    },
    {
      "cell_type": "code",
      "source": [
        "fb = pd.read_csv('/content/fb_2018.csv', index_col = 'date', parse_dates=True)\n",
        "fb.head()"
      ],
      "metadata": {
        "id": "Zgq1P8g4518V"
      },
      "execution_count": null,
      "outputs": []
    },
    {
      "cell_type": "markdown",
      "source": [
        "## Arithmetic and statistics"
      ],
      "metadata": {
        "id": "LGt7RAmS52Yq"
      }
    },
    {
      "cell_type": "markdown",
      "source": [
        "We already saw that we can use mathematical operators like + and / with dataframes directly. However, we can also use methods, which allow us to specify the axis to\n",
        "perform the calculation over. By default this is per column. Let's find the z-scores for the volume traded and look at the days where this was more than 3 standard deviations\n",
        "from the mean:"
      ],
      "metadata": {
        "id": "ZVeAdaaJ55oL"
      }
    },
    {
      "cell_type": "code",
      "source": [
        "fb.assign(\n",
        "    abs_z_score_volume = lambda x:x.volume.sub(x.volume.mean()).div(x.volume.std()).abs() # sub() for sbtraction, div() for floor division\n",
        ").query('abs_z_score_volume > 3')"
      ],
      "metadata": {
        "id": "NZTimPU56BrE"
      },
      "execution_count": null,
      "outputs": []
    },
    {
      "cell_type": "markdown",
      "source": [
        "We can use rank() and pct_change() to see which days had the largest change in volume traded from the day before:"
      ],
      "metadata": {
        "id": "ff0FpJVu6CG5"
      }
    },
    {
      "cell_type": "code",
      "source": [
        "fb.assign(\n",
        "    volume_pct_change = fb.volume.pct_change(),\n",
        "    pct_change_rank = lambda x: x.volume_pct_change.abs().rank(  # percent change\n",
        "        ascending = False\n",
        "    )\n",
        ").nsmallest(5, 'pct_change_rank')"
      ],
      "metadata": {
        "id": "B-ET83ef6FIK"
      },
      "execution_count": null,
      "outputs": []
    },
    {
      "cell_type": "markdown",
      "source": [
        "January 12th was when the news that Facebook changed its news feed product to focus more on content from a users' friends over the brands they follow. Given that\n",
        "Facebook's advertising is a key component of its business (nearly 89% in 2017), many shares were sold and the price dropped in panic:"
      ],
      "metadata": {
        "id": "nKPVhXic6Ii0"
      }
    },
    {
      "cell_type": "code",
      "source": [
        "fb['2018-01-11':'2018-01-12']"
      ],
      "metadata": {
        "id": "PT8ys9_t6JTe"
      },
      "execution_count": null,
      "outputs": []
    },
    {
      "cell_type": "markdown",
      "source": [
        "Throughout 2018, Facebook's stock price never had a low above $215:"
      ],
      "metadata": {
        "id": "mAPGd76L6J2q"
      }
    },
    {
      "cell_type": "code",
      "source": [
        "(fb > 215).any()"
      ],
      "metadata": {
        "id": "O_aln6WJ6Wsh"
      },
      "execution_count": null,
      "outputs": []
    },
    {
      "cell_type": "markdown",
      "source": [
        "Facebook's OHLC (open, high, low, and close) prices all had at least one day they were at $215 or less:"
      ],
      "metadata": {
        "id": "LQvYzmRm6Nxo"
      }
    },
    {
      "cell_type": "code",
      "source": [
        "(fb > 215).all()"
      ],
      "metadata": {
        "id": "R9xe2DSg6NO9"
      },
      "execution_count": null,
      "outputs": []
    },
    {
      "cell_type": "markdown",
      "source": [
        "## Binning and thresholds"
      ],
      "metadata": {
        "id": "FF3lyfWL6XnQ"
      }
    },
    {
      "cell_type": "markdown",
      "source": [
        "When working with the volume traded, we may be interested in ranges of volume rather than the exact values. No two days have the same volume traded:"
      ],
      "metadata": {
        "id": "oS0lYzgx6cgN"
      }
    },
    {
      "cell_type": "code",
      "source": [
        "(fb.volume.value_counts() > 1).sum()"
      ],
      "metadata": {
        "id": "VmS6Ro2x6gIr"
      },
      "execution_count": null,
      "outputs": []
    },
    {
      "cell_type": "markdown",
      "source": [
        "We can use pd.cut() to create 3 bins of even an even range in volume traded and name them. Then we can work with low, medium, and high volume traded categories:"
      ],
      "metadata": {
        "id": "mNe4slEw6gwe"
      }
    },
    {
      "cell_type": "code",
      "source": [
        "volume_binned = pd.cut(fb.volume, bins=3, labels=['low', 'med', 'high'])\n",
        "volume_binned.value_counts()"
      ],
      "metadata": {
        "id": "-n2YUdGu6kW9"
      },
      "execution_count": null,
      "outputs": []
    },
    {
      "cell_type": "code",
      "source": [
        "fb[volume_binned == 'high'].sort_values(\n",
        "'volume', ascending=False\n",
        ")"
      ],
      "metadata": {
        "id": "WXOLHafM6nb0"
      },
      "execution_count": null,
      "outputs": []
    },
    {
      "cell_type": "markdown",
      "source": [
        "July 25th Facebook announced disappointing user growth and the stock tanked in the after hours:"
      ],
      "metadata": {
        "id": "z3HtZbd_6kyP"
      }
    },
    {
      "cell_type": "code",
      "source": [
        "fb['2018-07-25':'2018-07-26']"
      ],
      "metadata": {
        "id": "VWpRQZ616sQN"
      },
      "execution_count": null,
      "outputs": []
    },
    {
      "cell_type": "markdown",
      "source": [
        "Cambridge Analytica scandal broke on Saturday March 17th, so we look to the Monday for the numbers"
      ],
      "metadata": {
        "id": "A2OQLcM86y_t"
      }
    },
    {
      "cell_type": "code",
      "source": [
        "fb['2018-03-16':'2018-03-20']"
      ],
      "metadata": {
        "id": "Muzapbl3vgN0"
      },
      "execution_count": null,
      "outputs": []
    },
    {
      "cell_type": "markdown",
      "source": [
        "Since most days have similar volume, but a few are very large, we have very wide bins. Most of the data is in the low bin.\n",
        "Note: visualizations will be covered in chapters 5 and 6."
      ],
      "metadata": {
        "id": "zW9y5w9y62y5"
      }
    },
    {
      "cell_type": "code",
      "source": [
        "import matplotlib.pyplot as plt\n",
        "fb.plot(y='volume', figsize=(15, 3), title='Daily Volume Traded of Facebook Stock in 2018 (with bins)')\n",
        "\n",
        "for bin_name, alpha, bounds in zip(\n",
        "['low', 'med', 'high'], [0.1, 0.2, 0.3], pd.cut(fb.volume, bins=3).unique().categories.values\n",
        "):\n",
        "  plt.axhspan(bounds.left, bounds.right, alpha=alpha, label=bin_name, color='mediumturquoise')\n",
        "  plt.annotate(bin_name, xy=('2017-12-17', (bounds.left + bounds.right)/2.1))\n",
        "\n",
        "plt.ylabel('volume traded')\n",
        "plt.legend()\n",
        "plt.show()"
      ],
      "metadata": {
        "id": "J4FqIHIx65DJ"
      },
      "execution_count": null,
      "outputs": []
    },
    {
      "cell_type": "markdown",
      "source": [
        "If we split using quantiles, the bins will have roughly the same number of observations. For this, we use qcut() . We will make 4 quartiles"
      ],
      "metadata": {
        "id": "QexN-cu_65pK"
      }
    },
    {
      "cell_type": "code",
      "source": [
        "volume_qbinned = pd.qcut(fb.volume, q=4, labels=['q1', 'q2', 'q3', 'q4'])\n",
        "volume_qbinned.value_counts()"
      ],
      "metadata": {
        "id": "wmii7vVIBKOZ"
      },
      "execution_count": null,
      "outputs": []
    },
    {
      "cell_type": "markdown",
      "source": [
        "Notice the bins don't cover ranges of the same size anymore"
      ],
      "metadata": {
        "id": "0dMp474EBOrn"
      }
    },
    {
      "cell_type": "code",
      "source": [
        "fb.plot(y='volume', figsize=(15, 8), title='Daily Volume Traded of Facebook Stock in 2018 (with quartile bins)')\n",
        "for bin_name, alpha, bounds in zip(\n",
        "['q1', 'q2', 'q3', 'q4'], [0.1, 0.35, 0.2, 0.3], pd.qcut(fb.volume, q=4).unique().categories.values\n",
        "):\n",
        "  plt.axhspan(bounds.left, bounds.right, alpha=alpha, label=bin_name, color='mediumturquoise')\n",
        "  plt.annotate(bin_name, xy=('2017-12-17', (bounds.left + bounds.right)/2.1))\n",
        "plt.ylabel('volume traded')\n",
        "plt.legend()\n",
        "plt.show()"
      ],
      "metadata": {
        "id": "l1vzvhHjBPEW"
      },
      "execution_count": null,
      "outputs": []
    },
    {
      "cell_type": "markdown",
      "source": [
        "Sometimes we don't want to make bins, but rather cap values at a threshold. Before we look at an example, let's pivot our weather data for the Central Park station:"
      ],
      "metadata": {
        "id": "HdX8tyqvBZn4"
      }
    },
    {
      "cell_type": "code",
      "source": [
        "central_park_weather = weather.query(\n",
        "'station == \"GHCND:USW00094728\"'\n",
        ").pivot(index='date', columns='datatype', values='value')"
      ],
      "metadata": {
        "id": "B7bx5NpKBcz4"
      },
      "execution_count": null,
      "outputs": []
    },
    {
      "cell_type": "code",
      "source": [
        "central_park_weather.head()"
      ],
      "metadata": {
        "id": "QDRGZOvZB39N"
      },
      "execution_count": null,
      "outputs": []
    },
    {
      "cell_type": "markdown",
      "source": [
        "Say we don't care how much snow their was, just that it snowed in Central Park. However, we don't want to make a Boolean column since we need to preserve the data type of\n",
        "float. We can use clip() to replace values above a upper threshold with the threshold and replace values below a lower threshold with the lower threshold. This means we\n",
        "can use clip(0, 1) to change all the snow values of one or more to 1, which easily shows us the days snow was recorded in Central Park. Preserving the data type will\n",
        "save some work later on if we are building a model:"
      ],
      "metadata": {
        "id": "wiSs0KTdCHZb"
      }
    },
    {
      "cell_type": "code",
      "source": [
        "central_park_weather.SNOW.clip(0, 1).value_counts()"
      ],
      "metadata": {
        "id": "dBxFRx65CJ1F"
      },
      "execution_count": null,
      "outputs": []
    },
    {
      "cell_type": "markdown",
      "source": [
        "Note: the clip() method can also be called on the dataframe itself."
      ],
      "metadata": {
        "id": "U3TtnURbCP7n"
      }
    },
    {
      "cell_type": "markdown",
      "source": [
        "## Applying Functions"
      ],
      "metadata": {
        "id": "b8yUB6ZsCR7X"
      }
    },
    {
      "cell_type": "markdown",
      "source": [
        "We can use the apply() method to run the same operation on all columns (or rows) of the dataframe. Let's calculate the z-scores of the TMIN, TMAX, and PRCP\n",
        "observations in Central Park in October 2018:"
      ],
      "metadata": {
        "id": "sespuIJFFPyH"
      }
    },
    {
      "cell_type": "code",
      "source": [
        "oct_weather_z_scores = central_park_weather.loc[\n",
        "'2018-10', ['TMIN', 'TMAX', 'PRCP']\n",
        "].apply(lambda x: x.sub(x.mean()).div(x.std()))\n",
        "oct_weather_z_scores.describe().T # describe(*) gives you the min,max, 25,50, 75 %"
      ],
      "metadata": {
        "id": "pZx8XEe0CTvB"
      },
      "execution_count": null,
      "outputs": []
    },
    {
      "cell_type": "markdown",
      "source": [
        "October 27th rained much more than the rest of the days:"
      ],
      "metadata": {
        "id": "-UgRCWHKFhlf"
      }
    },
    {
      "cell_type": "code",
      "source": [
        "oct_weather_z_scores.query('PRCP > 3')"
      ],
      "metadata": {
        "id": "rFZeKjxBFiBb"
      },
      "execution_count": null,
      "outputs": []
    },
    {
      "cell_type": "markdown",
      "source": [
        "Indeed, this day was much higher than the rest:"
      ],
      "metadata": {
        "id": "_g0O1RUrFlGe"
      }
    },
    {
      "cell_type": "code",
      "source": [
        "central_park_weather.loc['2018-10', 'PRCP'].describe()"
      ],
      "metadata": {
        "id": "OAKEIabnFlXV"
      },
      "execution_count": null,
      "outputs": []
    },
    {
      "cell_type": "markdown",
      "source": [
        "When the function we want to apply isn't vectorized, we can:\n",
        "- use np.vectorize() to vectorize it (similar to how map() works) and then use it with apply()\n",
        "- use applymap() and pass it the non-vectorized function directly\n",
        "Say we wanted to count the digits of the whole numbers for the Facebook data. len() is not vectorized:"
      ],
      "metadata": {
        "id": "M_FKaLjoFyyf"
      }
    },
    {
      "cell_type": "code",
      "source": [
        "import numpy as np\n",
        "\n",
        "fb.apply(\n",
        "  lambda x: np.vectorize(lambda y: len(str(np.ceil(y))))(x)\n",
        ").astype('int64').equals(\n",
        "  fb.applymap(lambda x: len(str(np.ceil(x))))\n",
        ")"
      ],
      "metadata": {
        "id": "UjIL9k9NF0Zq"
      },
      "execution_count": null,
      "outputs": []
    },
    {
      "cell_type": "markdown",
      "source": [
        "A simple operation of addition to each element in a series grows linearly in time complexity when using iteritems() , but stays near 0 when using vectorized operations.\n",
        "iteritems() and related methods should only be used if there is no vectorized solution:"
      ],
      "metadata": {
        "id": "0Fe-4qpFF-CA"
      }
    },
    {
      "cell_type": "code",
      "source": [
        "import time\n",
        "import matplotlib.pyplot as plt\n",
        "import numpy as np\n",
        "import pandas as pd\n",
        "\n",
        "np.random.seed(0)\n",
        "\n",
        "vectorized_results = {}\n",
        "iteritems_results = {}\n",
        "\n",
        "for size in [10, 100, 1000, 10000, 100000, 500000, 1000000, 5000000, 10000000]:\n",
        "  test = pd.Series(np.random.uniform(size=size))\n",
        "\n",
        "  start = time.time()\n",
        "  x = test + 10\n",
        "  end = time.time()\n",
        "  vectorized_results[size] = end - start\n",
        "\n",
        "  start = time.time()\n",
        "  x = []\n",
        "  for i, v in test.iteritems():\n",
        "    x.append(v + 10)\n",
        "  x = pd.Series(x)\n",
        "  end = time.time()\n",
        "  iteritems_results[size] = end - start\n",
        "\n",
        "pd.DataFrame(\n",
        "  [pd.Series(vectorized_results, name='vectorized'), pd.Series(iteritems_results, name='iteritems')]\n",
        ").T.plot(title='Time Complexity of Vectorized Operations vs. iteritems()')\n",
        "plt.xlabel('item size (rows)')\n",
        "plt.ylabel('time')\n",
        "plt.show()"
      ],
      "metadata": {
        "id": "QnO9i8VPF_WZ"
      },
      "execution_count": null,
      "outputs": []
    },
    {
      "cell_type": "markdown",
      "source": [
        "## Window Calculations"
      ],
      "metadata": {
        "id": "SkN2Pu86GwM_"
      }
    },
    {
      "cell_type": "markdown",
      "source": [
        "Consult the understanding windows calculation notebook for interactive visualizations to help understand window calculations.\n",
        "\n",
        "The rolling() method allows us to perform rolling window calculations. We simply specify the window size (3 days here) and follow it with a call to an aggregation\n",
        "function (sum here):"
      ],
      "metadata": {
        "id": "8_m8Y6mqG1aE"
      }
    },
    {
      "cell_type": "code",
      "source": [
        "central_park_weather['2018-10'].assign(\n",
        "  rolling_PRCP=lambda x: x.PRCP.rolling('3D').sum()\n",
        ")[['PRCP', 'rolling_PRCP']].head(7).T"
      ],
      "metadata": {
        "id": "x_HRF9gLGvrg"
      },
      "execution_count": null,
      "outputs": []
    },
    {
      "cell_type": "code",
      "source": [
        "central_park_weather['2018-10'].rolling('3D').mean().head(7).iloc[:,:6]"
      ],
      "metadata": {
        "id": "kssiCXhYG-a_"
      },
      "execution_count": null,
      "outputs": []
    },
    {
      "cell_type": "markdown",
      "source": [
        "We can use different aggregation functions per column if we use agg() instead. We pass in a dictionary mapping the column to the aggregation to perform on it:"
      ],
      "metadata": {
        "id": "548O_oNnG-Oj"
      }
    },
    {
      "cell_type": "code",
      "source": [
        "central_park_weather['2018-10-01':'2018-10-07'].rolling('3D').agg(\n",
        "  {'TMAX': 'max', 'TMIN': 'min', 'AWND': 'mean', 'PRCP': 'sum'}\n",
        ").join( # join with original data for comparison\n",
        "  central_park_weather[['TMAX', 'TMIN', 'AWND', 'PRCP']],\n",
        "  lsuffix='_rolling'\n",
        ").sort_index(axis=1) # sort columns so rolling calcs are next to originals"
      ],
      "metadata": {
        "id": "PYOlEgPfHFyc"
      },
      "execution_count": null,
      "outputs": []
    },
    {
      "cell_type": "markdown",
      "source": [
        "Rolling calculations ( rolling() ) use a sliding window. Expanding calculations ( expanding() ) however grow in size. These are equivalent to cumulative aggregations like\n",
        "cumsum() ; however, we can specify the minimum number of periods required to start calculating (default is 1):"
      ],
      "metadata": {
        "id": "bAmoHUvcHWBE"
      }
    },
    {
      "cell_type": "code",
      "source": [
        "central_park_weather.PRCP.expanding().sum().equals(central_park_weather.PRCP.cumsum())"
      ],
      "metadata": {
        "id": "FPOq3gOrHXoI"
      },
      "execution_count": null,
      "outputs": []
    },
    {
      "cell_type": "markdown",
      "source": [
        "Separate expanding aggregations per column. Note that agg() will accept numpy functions too:"
      ],
      "metadata": {
        "id": "L3diny-ZMmS_"
      }
    },
    {
      "cell_type": "code",
      "source": [
        "central_park_weather['2018-10-01':'2018-10-07'].expanding().agg(\n",
        "  {'TMAX': np.max, 'TMIN': np.min, 'AWND': np.mean, 'PRCP': np.sum}\n",
        ").join(\n",
        "  central_park_weather[['TMAX', 'TMIN', 'AWND', 'PRCP']],\n",
        "  lsuffix='_expanding'\n",
        ").sort_index(axis=1)"
      ],
      "metadata": {
        "id": "KjMQ7fRAMm0x"
      },
      "execution_count": null,
      "outputs": []
    },
    {
      "cell_type": "markdown",
      "source": [
        "We can calculate the exponentially weighted moving average as follows. Note that span here is the periods to use:"
      ],
      "metadata": {
        "id": "CyLWMNRaMwSm"
      }
    },
    {
      "cell_type": "code",
      "source": [
        "fb.assign(\n",
        "  close_ewma=lambda x: x.close.ewm(span=5).mean()\n",
        ").tail(10)[['close', 'close_ewma']]"
      ],
      "metadata": {
        "id": "v2BadqptMyiP"
      },
      "execution_count": null,
      "outputs": []
    },
    {
      "cell_type": "markdown",
      "source": [
        "Consult the understanding_window_calculations.ipynb notebook for interactive visualizations to help understand window calculations."
      ],
      "metadata": {
        "id": "Ga5NaMVKM64a"
      }
    },
    {
      "cell_type": "markdown",
      "source": [
        "## Pipes"
      ],
      "metadata": {
        "id": "pATyO7kuM8Ai"
      }
    },
    {
      "cell_type": "markdown",
      "source": [
        "Pipes all use to apply any function that accepts our data as the first argument and pass in any additional arguments. This makes it easy to chain steps together regardless of if\n",
        "they are methods or functions:\n",
        "\n",
        "We can pass any function that will accept the caller of pipe() as the first argument:"
      ],
      "metadata": {
        "id": "rfJ-vobPM_AY"
      }
    },
    {
      "cell_type": "code",
      "source": [
        "def get_info(df):\n",
        "  return '%d rows and %d columns and max closing z-score was %d' % (*df.shape, df.close.max())\n",
        "\n",
        "fb['2018-Q1'].apply(lambda x: (x - x.mean())/x.std()).pipe(get_info)\\\n",
        "  == get_info(fb['2018-Q1'].apply(lambda x: (x - x.mean())/x.std()))"
      ],
      "metadata": {
        "id": "Zq4SuxxvNFKX"
      },
      "execution_count": null,
      "outputs": []
    },
    {
      "cell_type": "markdown",
      "source": [
        "For example, passing pd.DataFrame.rolling to pipe() is equivalent to calling rolling() directly on the dataframe, except we have more flexiblity to change this:"
      ],
      "metadata": {
        "id": "1l382PKPNHgn"
      }
    },
    {
      "cell_type": "code",
      "source": [
        "fb.pipe(pd.DataFrame.rolling, '20D').mean().equals(fb.rolling('20D').mean())"
      ],
      "metadata": {
        "id": "9s53GZE5Narf"
      },
      "execution_count": null,
      "outputs": []
    },
    {
      "cell_type": "markdown",
      "source": [
        "The pipe takes the function passed in and calls it with the object that called pipe() as the first argument. Positional and keyword arguments are passed down"
      ],
      "metadata": {
        "id": "ZfVMlVEKNjwk"
      }
    },
    {
      "cell_type": "code",
      "source": [
        "pd.DataFrame.rolling(fb, '20D').mean().equals(fb.rolling('20D').mean())"
      ],
      "metadata": {
        "id": "QnasheiyNrvf"
      },
      "execution_count": null,
      "outputs": []
    },
    {
      "cell_type": "markdown",
      "source": [
        "We can use a pipe to make a function that we can use for all our window calculation needs:"
      ],
      "metadata": {
        "id": "nRAhuP-YNzKn"
      }
    },
    {
      "cell_type": "code",
      "source": [
        "from window_calc import window_calc\n",
        "window_calc??"
      ],
      "metadata": {
        "id": "AE9lL2OcONGI"
      },
      "execution_count": null,
      "outputs": []
    },
    {
      "cell_type": "markdown",
      "source": [
        "![image.png](data:image/png;base64,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)"
      ],
      "metadata": {
        "id": "hX8kIc85OVZ6"
      }
    },
    {
      "cell_type": "markdown",
      "source": [
        "We can use the same interface to calculate various window calculations now. Let's find the expanding median for the Facebook data:"
      ],
      "metadata": {
        "id": "T5YJLvjqOoc7"
      }
    },
    {
      "cell_type": "code",
      "source": [
        "window_calc(fb, pd.DataFrame.expanding, np.median).head()"
      ],
      "metadata": {
        "id": "7O1VYO3yOXdY"
      },
      "execution_count": null,
      "outputs": []
    },
    {
      "cell_type": "markdown",
      "source": [
        "Using the exponentially weighted moving average requires we pass in a keyword argument"
      ],
      "metadata": {
        "id": "MYOjBGxKOuCA"
      }
    },
    {
      "cell_type": "code",
      "source": [
        "window_calc(fb, pd.DataFrame.ewm, 'mean', span=3).head()"
      ],
      "metadata": {
        "id": "Fbv5-8VGOurk"
      },
      "execution_count": null,
      "outputs": []
    },
    {
      "cell_type": "markdown",
      "source": [
        "With rolling calculations, we can pass in a positional argument for the window size:"
      ],
      "metadata": {
        "id": "2zKMN5EjO2kI"
      }
    },
    {
      "cell_type": "code",
      "source": [
        "window_calc(\n",
        "  central_park_weather['2018-10'],\n",
        "  pd.DataFrame.rolling,\n",
        "  {'TMAX': 'max', 'TMIN': 'min', 'AWND': 'mean', 'PRCP': 'sum'},\n",
        "  '3D'\n",
        ").head()"
      ],
      "metadata": {
        "id": "IYWZU1d5O3Hl"
      },
      "execution_count": null,
      "outputs": []
    }
  ]
}