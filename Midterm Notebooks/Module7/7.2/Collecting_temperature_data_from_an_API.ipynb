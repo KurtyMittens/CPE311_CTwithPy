{
  "nbformat": 4,
  "nbformat_minor": 0,
  "metadata": {
    "colab": {
      "private_outputs": true,
      "provenance": []
    },
    "kernelspec": {
      "name": "python3",
      "display_name": "Python 3"
    },
    "language_info": {
      "name": "python"
    }
  },
  "cells": [
    {
      "cell_type": "code",
      "execution_count": null,
      "metadata": {
        "id": "HVezG1WcLi0V"
      },
      "outputs": [],
      "source": [
        "import requests"
      ]
    },
    {
      "cell_type": "markdown",
      "source": [
        "# API REQUEST"
      ],
      "metadata": {
        "id": "2TM5CozfOePL"
      }
    },
    {
      "cell_type": "code",
      "source": [
        "# request\n",
        "def make_request(endpoint, payload= None):\n",
        "  return requests.get(f'https://www.ncdc.noaa.gov/cdo-web/api/v2/{endpoint}',headers={'token': 'anPgrgSWrWgUYFXULhgBXbwIMcbuJWps'},params=payload)"
      ],
      "metadata": {
        "id": "-mFtIxVOLxDT"
      },
      "execution_count": null,
      "outputs": []
    },
    {
      "cell_type": "code",
      "source": [
        "response = make_request('datasets', {'startdate':'2018-10-01'})\n",
        "response.status_code # 200 means Okay"
      ],
      "metadata": {
        "id": "zJnudxPRMjbh"
      },
      "execution_count": null,
      "outputs": []
    },
    {
      "cell_type": "markdown",
      "source": [
        "# Getting Keys"
      ],
      "metadata": {
        "id": "odg2zyBxOsqp"
      }
    },
    {
      "cell_type": "code",
      "source": [
        "response.json().keys() # getting Keys"
      ],
      "metadata": {
        "id": "TrqxYGwuMvni"
      },
      "execution_count": null,
      "outputs": []
    },
    {
      "cell_type": "code",
      "source": [
        "response.json()[\"metadata\"]"
      ],
      "metadata": {
        "id": "yxk_a4QSM1YJ"
      },
      "execution_count": null,
      "outputs": []
    },
    {
      "cell_type": "markdown",
      "source": [
        "# What data in the results"
      ],
      "metadata": {
        "id": "He2h-p4FOxPy"
      }
    },
    {
      "cell_type": "code",
      "source": [
        "response.json()['results'][0].keys()"
      ],
      "metadata": {
        "id": "QEUB84IdNeIT"
      },
      "execution_count": null,
      "outputs": []
    },
    {
      "cell_type": "markdown",
      "source": [
        "# Parsing"
      ],
      "metadata": {
        "id": "H6wCiMVhOcOD"
      }
    },
    {
      "cell_type": "code",
      "source": [
        "[(data['id'], data['name']) for data in response.json()[\"results\"] ]"
      ],
      "metadata": {
        "id": "ycOCbmbeNxWC"
      },
      "execution_count": null,
      "outputs": []
    },
    {
      "cell_type": "markdown",
      "source": [
        "# Categories"
      ],
      "metadata": {
        "id": "Pl4QHSAEPEoZ"
      }
    },
    {
      "cell_type": "code",
      "source": [
        "response = make_request('datacategories', payload={'datasetid' : 'GHCND'})\n",
        "response.status_code"
      ],
      "metadata": {
        "id": "o3_Ark2uPCNR"
      },
      "execution_count": null,
      "outputs": []
    },
    {
      "cell_type": "code",
      "source": [
        "response.json()[\"results\"]"
      ],
      "metadata": {
        "id": "_5LBj4miQTSy"
      },
      "execution_count": null,
      "outputs": []
    },
    {
      "cell_type": "markdown",
      "source": [
        "# Grabing Data type ID // Temperature Category"
      ],
      "metadata": {
        "id": "Jt_hUQdVQuHa"
      }
    },
    {
      "cell_type": "code",
      "source": [
        "response = make_request('datatypes', payload={'datacategoryid' : 'TEMP', 'limit' : 100})\n",
        "response.status_code"
      ],
      "metadata": {
        "id": "tPk_zhnpRG3y"
      },
      "execution_count": null,
      "outputs": []
    },
    {
      "cell_type": "code",
      "source": [
        "[(datatype['id'], datatype['name']) for datatype in response.json()['results']][-5:]"
      ],
      "metadata": {
        "id": "muu1lgPORcKZ"
      },
      "execution_count": null,
      "outputs": []
    },
    {
      "cell_type": "markdown",
      "source": [
        "# Determine which Location of the category"
      ],
      "metadata": {
        "id": "SLK6xNp4TID5"
      }
    },
    {
      "cell_type": "code",
      "source": [
        "response = make_request('locationcategories', payload={\"datasetid\":\"GHCND\"})\n",
        "response.status_code"
      ],
      "metadata": {
        "id": "_std0ZZ6ThgB"
      },
      "execution_count": null,
      "outputs": []
    },
    {
      "cell_type": "code",
      "source": [
        "import pprint # for more readability of the json()\n",
        "pprint.pprint(response.json())"
      ],
      "metadata": {
        "id": "ZxzvUxXmVnIi"
      },
      "execution_count": null,
      "outputs": []
    },
    {
      "cell_type": "markdown",
      "source": [
        "# NYC Location ID"
      ],
      "metadata": {
        "id": "Yw8vhmMPWEwh"
      }
    },
    {
      "cell_type": "code",
      "source": [
        "def get_item(name,  what, endpoint, start=1, end=None):\n",
        "  mid = (start + (end if end else 1)) // 2\n",
        "  name = name.lower()\n",
        "  payload = { 'datasetid': 'GHCND',\n",
        "             'sortfield': 'name',\n",
        "              'offset': mid,\n",
        "              'limit':1}\n",
        "\n",
        "  response = make_request(endpoint, {**payload, **what})\n",
        "\n",
        "  if response.ok:\n",
        "    end = end if end else response.json()[\"metadata\"]['resultset']['count']\n",
        "\n",
        "    current_name = response.json()[\"results\"][0]['name'].lower()\n",
        "\n",
        "    if name in current_name:\n",
        "      return response.json()['results'][0]\n",
        "\n",
        "    else:\n",
        "      if start >= end:\n",
        "        return {}\n",
        "      elif name < current_name:\n",
        "        return get_item(name, what, endpoint, start, mid -1)\n",
        "      elif name > current_name:\n",
        "        return get_item(name, what, endpoint, mid + 1, end)\n",
        "\n",
        "  else:\n",
        "    print(f'Response not OK, status: {response.status_code}')\n",
        "\n",
        "def get_location(name):\n",
        "  return get_item(name, {'locationcategoryid': 'CITY'}, 'locations')"
      ],
      "metadata": {
        "id": "_ZTjAAyVWNG5"
      },
      "execution_count": null,
      "outputs": []
    },
    {
      "cell_type": "code",
      "source": [
        "nyc = get_location('New York')\n",
        "nyc"
      ],
      "metadata": {
        "id": "mFG18Ipabl_T"
      },
      "execution_count": null,
      "outputs": []
    },
    {
      "cell_type": "markdown",
      "source": [
        "# Station ID for Central Park"
      ],
      "metadata": {
        "id": "m44LxV_ucBvB"
      }
    },
    {
      "cell_type": "code",
      "source": [
        "central_park = get_item('NY City Central Park', {'locationid' : nyc['id']}, 'stations')\n",
        "central_park"
      ],
      "metadata": {
        "id": "pqJ6yRtncGv6"
      },
      "execution_count": null,
      "outputs": []
    },
    {
      "cell_type": "markdown",
      "source": [
        "# Temperature Data Request"
      ],
      "metadata": {
        "id": "R62bHjAdc_Zi"
      }
    },
    {
      "cell_type": "code",
      "source": [
        "# get NYC daily summaries data\n",
        "response = make_request('data',{\n",
        "        'datasetid' : 'GHCND',\n",
        "        'stationid' : central_park['id'],\n",
        "        'locationid' : nyc['id'],\n",
        "        'startdate' : '2018-10-01',\n",
        "        'enddate' : '2018-10-31',\n",
        "        'datatypeid' : ['TMIN', 'TMAX', 'TOBS'], # temperature at time of observation, min, and max\n",
        "        'units' : 'metric',\n",
        "        'limit' : 1000\n",
        "    }\n",
        ")\n",
        "response.status_code"
      ],
      "metadata": {
        "id": "xBAYm5AqdGyK"
      },
      "execution_count": null,
      "outputs": []
    },
    {
      "cell_type": "markdown",
      "source": [
        "## DATA FRAMES"
      ],
      "metadata": {
        "id": "qhtnEKwxd6YK"
      }
    },
    {
      "cell_type": "code",
      "source": [
        "import pandas as pd\n",
        "df = pd.DataFrame(response.json()['results'])\n",
        "df.head()"
      ],
      "metadata": {
        "id": "uU36K10sd7Jk"
      },
      "execution_count": null,
      "outputs": []
    },
    {
      "cell_type": "code",
      "source": [
        "df.datatype.unique()"
      ],
      "metadata": {
        "id": "MIcNXhSuk3pi"
      },
      "execution_count": null,
      "outputs": []
    },
    {
      "cell_type": "code",
      "source": [
        "if get_item('NY City Central Park', {'locationid':nyc['id'], 'datatypeid': 'TOBS'}, 'stations'):\n",
        "  print(\"Found!\")"
      ],
      "metadata": {
        "id": "klIOXIauk-oZ"
      },
      "execution_count": null,
      "outputs": []
    },
    {
      "cell_type": "markdown",
      "source": [
        "# Different Location"
      ],
      "metadata": {
        "id": "T68wClDmi3v6"
      }
    },
    {
      "cell_type": "code",
      "source": [
        "laguardia = get_item(\n",
        "'LaGuardia', {'locationid' : nyc['id']}, 'stations'\n",
        ")\n",
        "laguardia"
      ],
      "metadata": {
        "id": "thbUOrCCiinN"
      },
      "execution_count": null,
      "outputs": []
    },
    {
      "cell_type": "code",
      "source": [
        "response = make_request(\n",
        "'data',\n",
        "{\n",
        "'datasetid' : 'GHCND',\n",
        "'stationid' : laguardia['id'],\n",
        "'locationid' : nyc['id'],\n",
        "'startdate' : '2018-10-01',\n",
        "'enddate' : '2018-10-31',\n",
        "'datatypeid' : ['TMIN', 'TMAX', 'TAVG'], # temperature at time of observation, min, and max\n",
        "'units' : 'metric',\n",
        "'limit' : 1000\n",
        "}\n",
        ")\n",
        "response.status_code"
      ],
      "metadata": {
        "id": "41sUAlf_iraq"
      },
      "execution_count": null,
      "outputs": []
    },
    {
      "cell_type": "code",
      "source": [
        "df = pd.DataFrame(response.json()['results'])\n",
        "df.head()"
      ],
      "metadata": {
        "id": "Waty9IJdiwEr"
      },
      "execution_count": null,
      "outputs": []
    },
    {
      "cell_type": "code",
      "source": [
        "df.datatype.value_counts()"
      ],
      "metadata": {
        "id": "W20_zPeRlmGa"
      },
      "execution_count": null,
      "outputs": []
    },
    {
      "cell_type": "code",
      "source": [
        "df.to_csv('/content/nyc_temperatures.csv', index=False)"
      ],
      "metadata": {
        "id": "M9vvX82klrJZ"
      },
      "execution_count": null,
      "outputs": []
    },
    {
      "cell_type": "markdown",
      "source": [
        "#**END**"
      ],
      "metadata": {
        "id": "7hfOF3Cad626"
      }
    }
  ]
}