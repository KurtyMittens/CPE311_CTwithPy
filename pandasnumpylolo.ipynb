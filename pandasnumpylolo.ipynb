{
  "nbformat": 4,
  "nbformat_minor": 0,
  "metadata": {
    "colab": {
      "private_outputs": true,
      "provenance": [],
      "authorship_tag": "ABX9TyNjuX1kux7gTnwS8761BpIi",
      "include_colab_link": true
    },
    "kernelspec": {
      "name": "python3",
      "display_name": "Python 3"
    },
    "language_info": {
      "name": "python"
    }
  },
  "cells": [
    {
      "cell_type": "markdown",
      "metadata": {
        "id": "view-in-github",
        "colab_type": "text"
      },
      "source": [
        "<a href=\"https://colab.research.google.com/github/KurtyMittens/CPE311_CTwithPy/blob/main/pandasnumpylolo.ipynb\" target=\"_parent\"><img src=\"https://colab.research.google.com/assets/colab-badge.svg\" alt=\"Open In Colab\"/></a>"
      ]
    },
    {
      "cell_type": "code",
      "execution_count": null,
      "metadata": {
        "id": "Eyof5HyBE_K2"
      },
      "outputs": [],
      "source": []
    },
    {
      "cell_type": "markdown",
      "source": [
        "Data Analysis Life Cycle:\n"
      ],
      "metadata": {
        "id": "jM-8Xj5eFBKi"
      }
    },
    {
      "cell_type": "code",
      "source": [
        "file_path = \"/content/Iris.csv\""
      ],
      "metadata": {
        "id": "gt9kBFzWFRqY"
      },
      "execution_count": null,
      "outputs": []
    },
    {
      "cell_type": "code",
      "source": [
        "import pandas as pd\n",
        "import numpy as np"
      ],
      "metadata": {
        "id": "48Ab1vsPFirR"
      },
      "execution_count": null,
      "outputs": []
    },
    {
      "cell_type": "code",
      "source": [
        "# Documentation is the key\n",
        "data =  pd.read_csv(file_path)"
      ],
      "metadata": {
        "id": "m7mnWGtBGBLp"
      },
      "execution_count": null,
      "outputs": []
    },
    {
      "cell_type": "code",
      "source": [
        "data"
      ],
      "metadata": {
        "id": "KSqpkTEFGSmr"
      },
      "execution_count": null,
      "outputs": []
    },
    {
      "cell_type": "code",
      "source": [
        "# introduction in pandas\n",
        "# pandas Uses dataframes - > dataframes are 2d arrays\n",
        "step_data = [1, 5, 7,89,5, 1]\n",
        "step_counts = pd.Series(step_data, name=\"steps\")"
      ],
      "metadata": {
        "id": "2wEjMoWPGXIB"
      },
      "execution_count": null,
      "outputs": []
    },
    {
      "cell_type": "code",
      "source": [
        "step_counts"
      ],
      "metadata": {
        "id": "2tyBaQhQHH-p"
      },
      "execution_count": null,
      "outputs": []
    },
    {
      "cell_type": "code",
      "source": [
        "grades = [96.65, 50.25, 33.25, 22.3, 85]\n",
        "# Make a series for grades using pandas\n",
        "# CODE HERE!"
      ],
      "metadata": {
        "id": "_TNSW4mEHQCL"
      },
      "execution_count": null,
      "outputs": []
    },
    {
      "cell_type": "code",
      "source": [
        "step_counts.index = pd.date_range(\"20240306\", periods=6)"
      ],
      "metadata": {
        "id": "lBWejv_oHrDC"
      },
      "execution_count": null,
      "outputs": []
    },
    {
      "cell_type": "code",
      "source": [
        "step_counts"
      ],
      "metadata": {
        "id": "IU3bUee2IFtq"
      },
      "execution_count": null,
      "outputs": []
    },
    {
      "cell_type": "code",
      "source": [
        "step_counts[\"2024-03-06\"]"
      ],
      "metadata": {
        "id": "Xs3JdgItITVh"
      },
      "execution_count": null,
      "outputs": []
    },
    {
      "cell_type": "code",
      "source": [
        "step_counts[4]"
      ],
      "metadata": {
        "id": "K9xHLIq7IQ0a"
      },
      "execution_count": null,
      "outputs": []
    },
    {
      "cell_type": "markdown",
      "source": [
        "Data slicing"
      ],
      "metadata": {
        "id": "HPx7lcqxInn_"
      }
    },
    {
      "cell_type": "code",
      "source": [
        "step_counts[:-1]"
      ],
      "metadata": {
        "id": "eNriDSSmIanq"
      },
      "execution_count": null,
      "outputs": []
    },
    {
      "cell_type": "code",
      "source": [
        "step_counts[\"2024-03\"]\n",
        "# all Data in March"
      ],
      "metadata": {
        "id": "iiIKS_2kI7cq"
      },
      "execution_count": null,
      "outputs": []
    },
    {
      "cell_type": "code",
      "source": [
        "step_counts.dtypes"
      ],
      "metadata": {
        "id": "RO97ibAYJFbB"
      },
      "execution_count": null,
      "outputs": []
    },
    {
      "cell_type": "code",
      "source": [
        "step_counts = step_counts.astype(np.float64)"
      ],
      "metadata": {
        "id": "MDxahsH0JIeR"
      },
      "execution_count": null,
      "outputs": []
    },
    {
      "cell_type": "code",
      "source": [
        "step_counts.dtypes"
      ],
      "metadata": {
        "id": "RQE8Sd0IJY2h"
      },
      "execution_count": null,
      "outputs": []
    },
    {
      "cell_type": "code",
      "source": [
        "# DATA IMPUTATION\n",
        "# REAL LIFE DAT< NOT ALWAYS CLEAN DATA!\n",
        "step_counts"
      ],
      "metadata": {
        "id": "nxD5GZQQJbi5"
      },
      "execution_count": null,
      "outputs": []
    },
    {
      "cell_type": "code",
      "source": [
        "step_counts[1:5] = np.NaN"
      ],
      "metadata": {
        "id": "_ZjhUofMJnhh"
      },
      "execution_count": null,
      "outputs": []
    },
    {
      "cell_type": "code",
      "source": [
        "step_counts"
      ],
      "metadata": {
        "id": "ZP7mkJccJwMh"
      },
      "execution_count": null,
      "outputs": []
    },
    {
      "cell_type": "code",
      "source": [
        "# deal with missing values?\n",
        "# 1: Change the missing value to the average of the non-missing values\n",
        "# 2: Change to 0\n",
        "\n",
        "step_counts = step_counts.fillna(0)"
      ],
      "metadata": {
        "id": "1ezZ5ONGJ4ok"
      },
      "execution_count": null,
      "outputs": []
    },
    {
      "cell_type": "code",
      "source": [
        "step_counts"
      ],
      "metadata": {
        "id": "IkGA7dyPKPUq"
      },
      "execution_count": null,
      "outputs": []
    },
    {
      "cell_type": "markdown",
      "source": [
        "# Pandas dataframe Creation and Methods"
      ],
      "metadata": {
        "id": "7e2GDsq6KS-Z"
      }
    },
    {
      "cell_type": "code",
      "source": [
        "cycling_data = [10, 7, 0, None, 2, 4, 15, 3, 10, 9, 0, None]\n",
        "\n",
        "joined_data = list(zip(step_data, cycling_data))"
      ],
      "metadata": {
        "id": "2cAhX5Z1KX_J"
      },
      "execution_count": null,
      "outputs": []
    },
    {
      "cell_type": "code",
      "source": [
        "joined_data"
      ],
      "metadata": {
        "id": "qYURPXnWKwhx"
      },
      "execution_count": null,
      "outputs": []
    },
    {
      "cell_type": "code",
      "source": [
        "#creating a dataframe\n",
        "\n",
        "activity_df = pd.DataFrame(joined_data)"
      ],
      "metadata": {
        "id": "egj2XsbLKzmr"
      },
      "execution_count": null,
      "outputs": []
    },
    {
      "cell_type": "code",
      "source": [
        "activity_df"
      ],
      "metadata": {
        "id": "_n4xEgY-K-Jp"
      },
      "execution_count": null,
      "outputs": []
    },
    {
      "cell_type": "code",
      "source": [
        "# naming columns\n",
        "\n",
        "activity_df =  pd.DataFrame(joined_data,\n",
        "                            index= pd.date_range(\"20240306\", periods = 6),\n",
        "                            columns = ['Walking', \"Cycling\"])"
      ],
      "metadata": {
        "id": "vlDqAyHoLDet"
      },
      "execution_count": null,
      "outputs": []
    },
    {
      "cell_type": "code",
      "source": [
        "activity_df"
      ],
      "metadata": {
        "id": "Rx0-L-fdLhuh"
      },
      "execution_count": null,
      "outputs": []
    },
    {
      "cell_type": "markdown",
      "source": [
        "# Indexing by data frames"
      ],
      "metadata": {
        "id": "cvnvbtcQL3vp"
      }
    },
    {
      "cell_type": "markdown",
      "source": [
        "- loc -> Named Index Value\n",
        "- iloc -> Integer index"
      ],
      "metadata": {
        "id": "IfPwusSFL7eB"
      }
    },
    {
      "cell_type": "code",
      "source": [
        "activity_df.loc[\"2024-03-06\"]"
      ],
      "metadata": {
        "id": "UoWua_HsL7BJ"
      },
      "execution_count": null,
      "outputs": []
    },
    {
      "cell_type": "code",
      "source": [
        "activity_df.iloc[3]"
      ],
      "metadata": {
        "id": "BlnuzmEAL3Eh"
      },
      "execution_count": null,
      "outputs": []
    },
    {
      "cell_type": "code",
      "source": [
        "activity_df.loc[:\"2024-03-09\"]"
      ],
      "metadata": {
        "id": "R782Mb2aMYhC"
      },
      "execution_count": null,
      "outputs": []
    },
    {
      "cell_type": "code",
      "source": [
        "activity_df.iloc[:3,:1]"
      ],
      "metadata": {
        "id": "fjGs18ngMifB"
      },
      "execution_count": null,
      "outputs": []
    },
    {
      "cell_type": "code",
      "source": [
        "file_path"
      ],
      "metadata": {
        "id": "i7AY7a7aM2a7"
      },
      "execution_count": null,
      "outputs": []
    },
    {
      "cell_type": "code",
      "source": [
        "df = pd.read_csv(file_path, index_col = 'Id')"
      ],
      "metadata": {
        "id": "JYjJmw0rNADZ"
      },
      "execution_count": null,
      "outputs": []
    },
    {
      "cell_type": "code",
      "source": [
        "df"
      ],
      "metadata": {
        "id": "W-ulKYK1NiBq"
      },
      "execution_count": null,
      "outputs": []
    },
    {
      "cell_type": "code",
      "source": [
        "df.head()"
      ],
      "metadata": {
        "id": "8rp-GC9ENrPK"
      },
      "execution_count": null,
      "outputs": []
    },
    {
      "cell_type": "code",
      "source": [
        "df.tail()"
      ],
      "metadata": {
        "id": "GWtTo1wZNtdk"
      },
      "execution_count": null,
      "outputs": []
    },
    {
      "cell_type": "code",
      "source": [
        "df[\"Sepal Area\"] = df.SepalLengthCm * df.SepalWidthCm"
      ],
      "metadata": {
        "id": "QJA7jtNgNy_i"
      },
      "execution_count": null,
      "outputs": []
    },
    {
      "cell_type": "code",
      "source": [
        "df"
      ],
      "metadata": {
        "id": "os6tNGvzN83x"
      },
      "execution_count": null,
      "outputs": []
    },
    {
      "cell_type": "code",
      "source": [
        "df[\"Petal Area\"] = df.PetalLengthCm * df.PetalWidthCm"
      ],
      "metadata": {
        "id": "TWGW7Y5jODmq"
      },
      "execution_count": null,
      "outputs": []
    },
    {
      "cell_type": "code",
      "source": [
        "df"
      ],
      "metadata": {
        "id": "q7uNPz52OKvJ"
      },
      "execution_count": null,
      "outputs": []
    },
    {
      "cell_type": "code",
      "source": [
        "df[\"abbrv\"] = (df.Species.apply(lambda x:x.replace(\"Iris-\",\"\")))"
      ],
      "metadata": {
        "id": "R3eHHJI4OP9i"
      },
      "execution_count": null,
      "outputs": []
    },
    {
      "cell_type": "code",
      "source": [
        "df"
      ],
      "metadata": {
        "id": "3c7Q5z4iOlU5"
      },
      "execution_count": null,
      "outputs": []
    },
    {
      "cell_type": "code",
      "source": [
        "df.drop(\"Species\", axis = 1, inplace = True)"
      ],
      "metadata": {
        "id": "20ciWXFqP2NB"
      },
      "execution_count": null,
      "outputs": []
    },
    {
      "cell_type": "code",
      "source": [
        "df"
      ],
      "metadata": {
        "id": "3ebwa0paTPDx"
      },
      "execution_count": null,
      "outputs": []
    },
    {
      "cell_type": "markdown",
      "source": [
        "# Concatenating Two Dataframes"
      ],
      "metadata": {
        "id": "8ltOhprSUCH5"
      }
    },
    {
      "cell_type": "code",
      "source": [
        "small_data = pd.concat([df.iloc[:2], df.iloc[-2:]])"
      ],
      "metadata": {
        "id": "db0_rN3tT28i"
      },
      "execution_count": null,
      "outputs": []
    },
    {
      "cell_type": "code",
      "source": [
        "small_data"
      ],
      "metadata": {
        "id": "qK9fB7_tUVrp"
      },
      "execution_count": null,
      "outputs": []
    },
    {
      "cell_type": "code",
      "source": [
        "group_size = df.groupby('abbrv').size()"
      ],
      "metadata": {
        "id": "Sun_sVRhUeYI"
      },
      "execution_count": null,
      "outputs": []
    },
    {
      "cell_type": "code",
      "source": [
        "df.mean()"
      ],
      "metadata": {
        "id": "Pl_suogOUs9y"
      },
      "execution_count": null,
      "outputs": []
    },
    {
      "cell_type": "code",
      "source": [
        "df.describe()"
      ],
      "metadata": {
        "id": "q4PEyrntUuDa"
      },
      "execution_count": null,
      "outputs": []
    }
  ]
}