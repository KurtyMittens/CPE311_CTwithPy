{
  "nbformat": 4,
  "nbformat_minor": 0,
  "metadata": {
    "colab": {
      "provenance": []
    },
    "kernelspec": {
      "name": "python3",
      "display_name": "Python 3"
    },
    "language_info": {
      "name": "python"
    }
  },
  "cells": [
    {
      "cell_type": "markdown",
      "source": [
        "# MY RECURSIVE APPROACH TO WOLF-CABBAGE-SHEEP"
      ],
      "metadata": {
        "id": "UnRyfIqVL-iA"
      }
    },
    {
      "cell_type": "code",
      "source": [
        "# Created by Kurtymittens (Kurt Russel Villamor)"
      ],
      "metadata": {
        "id": "-qHHuD3LNKwh"
      },
      "execution_count": 73,
      "outputs": []
    },
    {
      "cell_type": "markdown",
      "source": [
        "## **\"Due to the comment presented to my teammate \"Mr. JEMUEL DE GUZMAN\". I proceed to make a recursive approach\"**\n"
      ],
      "metadata": {
        "id": "zzH_plgrMOwx"
      }
    },
    {
      "cell_type": "markdown",
      "source": [
        "## ***ALGORITHM***"
      ],
      "metadata": {
        "id": "_Bn18hLaNmSy"
      }
    },
    {
      "cell_type": "markdown",
      "source": [
        "\n",
        "\n",
        "1.   Take Sheep\n",
        "2.   Return No Passenger\n",
        "3.   Take Wolf\n",
        "4.   Switch Wolf to Sheep\n",
        "5.   Return Sheep\n",
        "6.   Switch Cabbage and Sheep\n",
        "7.   Put Sheep\n",
        "\n"
      ],
      "metadata": {
        "id": "V3L-a3DgNqFr"
      }
    },
    {
      "cell_type": "markdown",
      "source": [
        "## ***CODE***"
      ],
      "metadata": {
        "id": "7YN4bCDmNQN6"
      }
    },
    {
      "cell_type": "code",
      "source": [
        "def crossRiver(orig, goto, boat, steps): # Accepts parameters\n",
        "  if len(goto) == 3:\n",
        "    return orig, goto\n",
        "  else: # Brute Forcing Solutions\n",
        "    if steps == 0 or steps == 3:\n",
        "      if 'sheep' in orig:\n",
        "        prioty = orig.index(\"sheep\")\n",
        "        goto.append(orig[prioty])\n",
        "        orig.remove(orig[prioty])\n",
        "    else:\n",
        "      if len(orig) == 2:\n",
        "        boat.append(orig.pop())\n",
        "        tempBoat = boat.pop()\n",
        "        temGoto = goto.pop()\n",
        "        goto.append(tempBoat)\n",
        "        boat.append(temGoto)\n",
        "      else:\n",
        "        tempBoat = boat.pop()\n",
        "        temOrig = orig.pop()\n",
        "        orig.append(tempBoat)\n",
        "        goto.append(temOrig)\n",
        "    return crossRiver(orig, goto, boat, steps+1)"
      ],
      "metadata": {
        "id": "FuRxut45NI-T"
      },
      "execution_count": 74,
      "outputs": []
    },
    {
      "cell_type": "markdown",
      "source": [
        "***This Brute Forcing allows me to eradicate tha use of loop. Note: It Works but still anxious while presenting my code. I think I can do more optimized code than this***<br>"
      ],
      "metadata": {
        "id": "DXgriqk5Ok07"
      }
    },
    {
      "cell_type": "markdown",
      "source": [
        "## **INITIALIZATION**"
      ],
      "metadata": {
        "id": "mu8soeTKPQmM"
      }
    },
    {
      "cell_type": "code",
      "source": [
        "# I just focused in functional programming\n",
        "orig = [\"wolf\", \"sheep\", \"cabbage\"] # Starting Position\n",
        "destination = [] # End Position\n",
        "boat = [] # Self explainatory BOAT"
      ],
      "metadata": {
        "id": "ZjFRujW6PUhz"
      },
      "execution_count": 75,
      "outputs": []
    },
    {
      "cell_type": "markdown",
      "source": [
        "## **ITERATION PROGRESS**"
      ],
      "metadata": {
        "id": "Zmb0TgOSPwUl"
      }
    },
    {
      "cell_type": "markdown",
      "source": [
        "- **A creation of a function that put the name of the original place, the boat, and the Go to plcae of the passengers.**"
      ],
      "metadata": {
        "id": "UyEtHGnn7IEt"
      }
    },
    {
      "cell_type": "code",
      "source": [
        "# def crossRiver(a, b, c, d) <--- accepts 4 parameters for time face value"
      ],
      "metadata": {
        "id": "_vLc0TboQgoO"
      },
      "execution_count": 76,
      "outputs": []
    },
    {
      "cell_type": "markdown",
      "source": [
        " ## ***FIRST ITERATION**"
      ],
      "metadata": {
        "id": "xuPgnC2DJqte"
      }
    },
    {
      "cell_type": "markdown",
      "source": [
        "- **First Iteration automatically get sheep in the current table or original table and put in the goto array to represent a movement**"
      ],
      "metadata": {
        "id": "aTXsCFEo7Hqd"
      }
    },
    {
      "cell_type": "code",
      "source": [
        "#  crossRiver(orig, destination, boat, 0) this is the command\n",
        "\n",
        "#if steps == 0 or steps == 3:\n",
        "#    if 'sheep' in orig\n",
        "#    goto.append(orig[prioty])\n",
        "#    orig.remove(orig[prioty])"
      ],
      "metadata": {
        "id": "h_Y4fo0qRun_"
      },
      "execution_count": 77,
      "outputs": []
    },
    {
      "cell_type": "markdown",
      "source": [
        "***First Iteration Status:***<br>\n",
        "**orig = [\"wolf\", \"sheep\", \"cabbage\"] -> [\"wolf\", \"cabbage\"]**<br>\n",
        "**boat = [  ] -> [  ]** <br>\n",
        "**goto = [  ] -> [\"sheep\"]** <br>\n"
      ],
      "metadata": {
        "id": "azHcxcT1FOlH"
      }
    },
    {
      "cell_type": "markdown",
      "source": [
        " ## ***SECOND ITERATION**"
      ],
      "metadata": {
        "id": "6h34j3JCJ2cv"
      }
    },
    {
      "cell_type": "markdown",
      "source": [
        "- **Second Iteration is the movement of the remaining passengers, either of wolf and cabbage has no constraints to each other.**"
      ],
      "metadata": {
        "id": "f10FndvoJ5-e"
      }
    },
    {
      "cell_type": "code",
      "source": [
        "#      if len(orig) == 2:\n",
        "#        boat.append(orig.pop())\n",
        "#        tempBoat = boat.pop()\n",
        "#        temGoto = goto.pop()\n",
        "#        goto.append(tempBoat) # Switching\n",
        "#        boat.append(temGoto) # Switching"
      ],
      "metadata": {
        "id": "wrKC8KGbG49u"
      },
      "execution_count": 78,
      "outputs": []
    },
    {
      "cell_type": "markdown",
      "source": [
        "***2nd Iteration Status:***<br>\n",
        "**orig = [\"wolf\", \"cabbage\"] -> [\"wolf\"]**<br>\n",
        "**boat = [  ] -> [ \"Cabbage\" ]** <br>\n",
        "**goto = [  ] -> [\"sheep\"]** <br>\n",
        "\n",
        "**SWITCH**\n",
        "\n",
        "**boat = [\"Cabbage\"] -> [\"sheep\"]**<br>\n",
        "**goto = [\" \"] -> [\"Cabbage\"]**\n",
        "\n"
      ],
      "metadata": {
        "id": "0pLPV94qKZD4"
      }
    },
    {
      "cell_type": "markdown",
      "source": [
        "## ***THIRD ITERATION**"
      ],
      "metadata": {
        "id": "5SokGmFsKp5L"
      }
    },
    {
      "cell_type": "markdown",
      "source": [
        "- **Third Iteration focuses in the swapping of individual places/slots, example is the singularity of the boat and a place can be either the orig place or the goto place**"
      ],
      "metadata": {
        "id": "SoWAUuzDKwdL"
      }
    },
    {
      "cell_type": "code",
      "source": [
        "#       tempBoat = boat.pop()\n",
        "#       temOrig = orig.pop()\n",
        "#       orig.append(tempBoat)\n",
        "#       goto.append(temOrig)"
      ],
      "metadata": {
        "id": "GiTDLwSlKv7b"
      },
      "execution_count": 79,
      "outputs": []
    },
    {
      "cell_type": "markdown",
      "source": [
        "***3rd Iteration Status:***<br>\n",
        "**SWITCH**<br>\n",
        "**orig = [\"wolf\"] -> [ \"sheep\" ]**<br>\n",
        "**boat = [ \"sheep\" ] -> [ \"wolf\" ]** <br>\n",
        "**goto = [ \"cabbage\" ] -> [ \"cabbage\" ]** <br>\n",
        "\n",
        "**DROPPING**\n",
        "\n",
        "**boat = [ \"wolf\" ] -> [ ]**<br>\n",
        "**goto = [ \"cabbage\" ] -> [ \"cabbage\", \"wolf\" ]**"
      ],
      "metadata": {
        "id": "FukjSN19L73l"
      }
    },
    {
      "cell_type": "markdown",
      "source": [
        "## ***4TH ITERATION**"
      ],
      "metadata": {
        "id": "jVoNCRufMxxG"
      }
    },
    {
      "cell_type": "markdown",
      "source": [
        "- **This iteration just repeats the first iteration where the sheep will be taken and dropped**"
      ],
      "metadata": {
        "id": "YejZ782nNFOQ"
      }
    },
    {
      "cell_type": "code",
      "source": [
        "#if steps == 0 or steps == 3:\n",
        "#    if 'sheep' in orig\n",
        "#    goto.append(orig[prioty])\n",
        "#    orig.remove(orig[prioty])"
      ],
      "metadata": {
        "id": "dGDJ6uHlNEyM"
      },
      "execution_count": 80,
      "outputs": []
    },
    {
      "cell_type": "markdown",
      "source": [
        "***4th Iteration Status:***<br>\n",
        "**orig = [\"sheep\"] -> []**<br>\n",
        "**boat = [ ] -> [ ]** <br>\n",
        "**goto = [ \"cabbage\", \"wolf\" ] -> [ \"cabbage\", \"wolf\" , \"sheep\"]** <br>"
      ],
      "metadata": {
        "id": "MdrWuHEXOrJ9"
      }
    },
    {
      "cell_type": "markdown",
      "source": [
        "## ***SAMPLE OUTPUT**"
      ],
      "metadata": {
        "id": "z8CWSdjmPRu0"
      }
    },
    {
      "cell_type": "code",
      "source": [
        "orig # Original State"
      ],
      "metadata": {
        "colab": {
          "base_uri": "https://localhost:8080/"
        },
        "id": "YwIGRJBFQA20",
        "outputId": "2eb2299d-c02f-4639-85d2-46491cc85e61"
      },
      "execution_count": 81,
      "outputs": [
        {
          "output_type": "execute_result",
          "data": {
            "text/plain": [
              "['wolf', 'sheep', 'cabbage']"
            ]
          },
          "metadata": {},
          "execution_count": 81
        }
      ]
    },
    {
      "cell_type": "code",
      "source": [
        "destination # Original State"
      ],
      "metadata": {
        "colab": {
          "base_uri": "https://localhost:8080/"
        },
        "id": "_PQHAo3nQEfP",
        "outputId": "b93a74ef-d558-4f12-f993-ef38c2bf006e"
      },
      "execution_count": 82,
      "outputs": [
        {
          "output_type": "execute_result",
          "data": {
            "text/plain": [
              "[]"
            ]
          },
          "metadata": {},
          "execution_count": 82
        }
      ]
    },
    {
      "cell_type": "code",
      "source": [
        "crossRiver(orig, destination, boat, 0) # Finish State"
      ],
      "metadata": {
        "colab": {
          "base_uri": "https://localhost:8080/"
        },
        "id": "9M00c1o2PYNm",
        "outputId": "bd6149fd-7b58-4740-9e26-366b99caff4d"
      },
      "execution_count": 83,
      "outputs": [
        {
          "output_type": "execute_result",
          "data": {
            "text/plain": [
              "([], ['cabbage', 'wolf', 'sheep'])"
            ]
          },
          "metadata": {},
          "execution_count": 83
        }
      ]
    },
    {
      "cell_type": "code",
      "source": [
        "orig1 = [\"wolf\", \"sheep\", \"cabbage\"] # Starting Position Different Order\n",
        "destination1 = [] # End Position\n",
        "boat1 = [] # Self explainatory BOAT"
      ],
      "metadata": {
        "id": "FEeh8nWYSEc0"
      },
      "execution_count": 95,
      "outputs": []
    },
    {
      "cell_type": "code",
      "source": [
        "crossRiver(orig1, destination1, boat1, 0) # Printing the iterations"
      ],
      "metadata": {
        "colab": {
          "base_uri": "https://localhost:8080/"
        },
        "id": "FANQ-PjFQvtD",
        "outputId": "97fd95b4-1646-45d2-aab1-949703e247ab"
      },
      "execution_count": 96,
      "outputs": [
        {
          "output_type": "execute_result",
          "data": {
            "text/plain": [
              "([], ['cabbage', 'wolf', 'sheep'])"
            ]
          },
          "metadata": {},
          "execution_count": 96
        }
      ]
    },
    {
      "cell_type": "code",
      "source": [
        "# Created by Kurtymittens"
      ],
      "metadata": {
        "id": "R3MOKrrJSquV"
      },
      "execution_count": null,
      "outputs": []
    }
  ]
}