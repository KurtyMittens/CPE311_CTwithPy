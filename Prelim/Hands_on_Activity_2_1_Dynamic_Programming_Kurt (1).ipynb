{
  "cells": [
    {
      "cell_type": "markdown",
      "id": "f1c6ec95",
      "metadata": {
        "id": "f1c6ec95"
      },
      "source": [
        "# Hands-on Activity 2.1 : Dynamic Programming"
      ]
    },
    {
      "cell_type": "markdown",
      "id": "56dacba1",
      "metadata": {
        "id": "56dacba1"
      },
      "source": [
        "#### Objective(s):\n",
        "\n",
        "This activity aims to demonstrate how to use dynamic programming to solve problems."
      ]
    },
    {
      "cell_type": "markdown",
      "id": "e51f84e3",
      "metadata": {
        "id": "e51f84e3"
      },
      "source": [
        "#### Intended Learning Outcomes (ILOs):\n",
        "* Differentiate recursion method from dynamic programming to solve problems.\n",
        "* Demonstrate how to  solve real-world problems using dynamic programming\n"
      ]
    },
    {
      "cell_type": "markdown",
      "id": "39047b1a",
      "metadata": {
        "id": "39047b1a"
      },
      "source": [
        "#### Resources:\n",
        "* Jupyter Notebook\n"
      ]
    },
    {
      "cell_type": "markdown",
      "id": "cb5360c0",
      "metadata": {
        "id": "cb5360c0"
      },
      "source": [
        "#### Procedures:"
      ]
    },
    {
      "cell_type": "markdown",
      "id": "206a914c",
      "metadata": {
        "id": "206a914c"
      },
      "source": [
        "1. Create a code that demonstrate how to use recursion method to solve problem"
      ]
    },
    {
      "cell_type": "code",
      "source": [
        "# recursion method of sum of the squares of numbers in a list\n",
        "def sqSumList(array, sum):\n",
        "  if len(array) == 0:\n",
        "    return sum\n",
        "  else:\n",
        "    num = array.pop()\n",
        "    return sqSumList(array, sum + (num**2))\n",
        "\n",
        "numbers = [2, 3, 4, 5]\n",
        "sqSumList(numbers, 0)"
      ],
      "metadata": {
        "colab": {
          "base_uri": "https://localhost:8080/"
        },
        "id": "kRt9Psge9smH",
        "outputId": "4c54b699-d493-44ca-bfce-0af1256eddd8"
      },
      "id": "kRt9Psge9smH",
      "execution_count": 254,
      "outputs": [
        {
          "output_type": "execute_result",
          "data": {
            "text/plain": [
              "54"
            ]
          },
          "metadata": {},
          "execution_count": 254
        }
      ]
    },
    {
      "cell_type": "markdown",
      "id": "5744a876",
      "metadata": {
        "id": "5744a876"
      },
      "source": [
        "2. Create a program codes that demonstrate how to use dynamic programming to solve the same problem"
      ]
    },
    {
      "cell_type": "code",
      "source": [
        "# Dynamic Programing using Tables of the Sum of the squares of number in a list\n",
        "def sqSumTable(array):\n",
        "  table = [0] # Stores the Solution to lessen the time needed to solve the other iteration\n",
        "  for i in array:\n",
        "    num = array.pop()\n",
        "    squared = num*num\n",
        "    table[0] = squared + sqSumTable(array)\n",
        "  return table[0]\n",
        "\n",
        "numbers2 = [2, 3, 4, 5]\n",
        "sqSumTable(numbers2)"
      ],
      "metadata": {
        "colab": {
          "base_uri": "https://localhost:8080/"
        },
        "id": "rPhyVTf1_ZIA",
        "outputId": "3be7984a-a4cf-4c90-b61b-ada7b7951181"
      },
      "id": "rPhyVTf1_ZIA",
      "execution_count": 255,
      "outputs": [
        {
          "output_type": "execute_result",
          "data": {
            "text/plain": [
              "54"
            ]
          },
          "metadata": {},
          "execution_count": 255
        }
      ]
    },
    {
      "cell_type": "markdown",
      "id": "8e3f6572",
      "metadata": {
        "id": "8e3f6572"
      },
      "source": [
        "##### Question:\n",
        "Explain the difference of using the recursion from dynamic programming using the given sample codes to solve the same problem"
      ]
    },
    {
      "cell_type": "markdown",
      "source": [
        "- ***Recursion solves a problem with the blockers or conditional ending statements and calling its own function to solve a problem while dynamic programming focus in the small problem first while storing the result somewhere. This is crucial since recursion solves the problem repeatedly until the desired output but Dynamic programming solves the problem by storing the currently solved problem to a cache or a table that makes the process faster***"
      ],
      "metadata": {
        "id": "rs1Cg13dGjO-"
      },
      "id": "rs1Cg13dGjO-"
    },
    {
      "cell_type": "markdown",
      "id": "60074702",
      "metadata": {
        "id": "60074702"
      },
      "source": [
        "3. Create a sample program codes to simulate bottom-up dynamic programming"
      ]
    },
    {
      "cell_type": "code",
      "source": [
        "# bottom up is memoization: dict\n",
        "# Memoization of a Triangular Sequence\n",
        "tempDict = {}\n",
        "def geoDict(num, memo):\n",
        "  if num == 0:\n",
        "    return 0\n",
        "  if num not in memo:\n",
        "    memo[num] = num + geoDict(num-1, memo)\n",
        "  return memo[num]\n",
        "\n",
        "geoDict(10, tempDict)\n",
        "for i in tempDict:\n",
        "  print(tempDict[i])"
      ],
      "metadata": {
        "colab": {
          "base_uri": "https://localhost:8080/"
        },
        "id": "cYYIlRZnJc8W",
        "outputId": "40dafa0d-8f83-4a2d-9ead-35444b912c0b"
      },
      "id": "cYYIlRZnJc8W",
      "execution_count": 256,
      "outputs": [
        {
          "output_type": "stream",
          "name": "stdout",
          "text": [
            "1\n",
            "3\n",
            "6\n",
            "10\n",
            "15\n",
            "21\n",
            "28\n",
            "36\n",
            "45\n",
            "55\n"
          ]
        }
      ]
    },
    {
      "cell_type": "markdown",
      "id": "e629eb89",
      "metadata": {
        "id": "e629eb89"
      },
      "source": [
        "4. Create a sample program codes that simulate tops-down dynamic programming"
      ]
    },
    {
      "cell_type": "code",
      "source": [
        "# Tops down uses tabulation:tables\n",
        "# Tabulation of a Triangular Numbers\n",
        "def SumTable(num):\n",
        "  table = [0, 1]\n",
        "  for i in range(2, num+1):\n",
        "    table.append(i + table[i-1])\n",
        "  return table\n",
        "\n",
        "SumTable(10)"
      ],
      "metadata": {
        "colab": {
          "base_uri": "https://localhost:8080/"
        },
        "id": "_ND40RUTJdle",
        "outputId": "1d7c7151-a169-4750-d638-03f044007660"
      },
      "id": "_ND40RUTJdle",
      "execution_count": 257,
      "outputs": [
        {
          "output_type": "execute_result",
          "data": {
            "text/plain": [
              "[0, 1, 3, 6, 10, 15, 21, 28, 36, 45, 55]"
            ]
          },
          "metadata": {},
          "execution_count": 257
        }
      ]
    },
    {
      "cell_type": "markdown",
      "id": "c2e2434c",
      "metadata": {
        "id": "c2e2434c"
      },
      "source": [
        "#### Question:\n",
        " Explain the difference between bottom-up from top-down dynamic programming using the given sample codes"
      ]
    },
    {
      "cell_type": "markdown",
      "id": "ac97e063",
      "metadata": {
        "id": "ac97e063"
      },
      "source": [
        "Type your answer here: ***Bottom up uses cache in the form of Dictionaries while Top Down uses tabulation methods in the form of Arrays***\n",
        "\n",
        "\n",
        "\n",
        "\n"
      ]
    },
    {
      "cell_type": "markdown",
      "id": "f7a5bfbd",
      "metadata": {
        "id": "f7a5bfbd"
      },
      "source": [
        "0/1 Knapsack Problem\n",
        "\n",
        "* Analyze three different techniques to solve knapsacks problem\n",
        "1. Recursion\n",
        "2. Dynamic Programming\n",
        "3. Memoization"
      ]
    },
    {
      "cell_type": "code",
      "source": [
        "#sample code for knapsack problem using recursion\n",
        "def rec_knapSack(w, wt, val, n):\n",
        "\n",
        "  #base case\n",
        "  #defined as nth item is empty;\n",
        "  #or the capacity w is 0\n",
        "  if n == 0 or w == 0:\n",
        "    return 0\n",
        "\n",
        "  #if weight of the nth item is more than\n",
        "  #the capacity W, then this item cannot be included\n",
        "  #as part of the optimal solution\n",
        "  if(wt[n-1] > w):\n",
        "    return rec_knapSack(w, wt, val, n-1)\n",
        "\n",
        "  #return the maximum of the two cases:\n",
        "  # (1) include the nth item\n",
        "  # (2) don't include the nth item\n",
        "  else:\n",
        "    return max(\n",
        "        val[n-1] + rec_knapSack(\n",
        "            w-wt[n-1], wt, val, n-1),\n",
        "            rec_knapSack(w, wt, val, n-1)\n",
        "    )"
      ],
      "metadata": {
        "id": "15SVHF85_1Ji"
      },
      "id": "15SVHF85_1Ji",
      "execution_count": 258,
      "outputs": []
    },
    {
      "cell_type": "code",
      "source": [
        "#To test:\n",
        "val = [60, 100, 120] #values for the items\n",
        "wt = [10, 20, 30] #weight of the items\n",
        "w = 50 #knapsack weight capacity\n",
        "n = len(val) #number of items\n",
        "\n",
        "rec_knapSack(w, wt, val, n)"
      ],
      "metadata": {
        "colab": {
          "base_uri": "https://localhost:8080/"
        },
        "id": "b1D3YRJ7cMqU",
        "outputId": "92842830-50f2-4656-c3d7-73ae6eb5b506"
      },
      "id": "b1D3YRJ7cMqU",
      "execution_count": 259,
      "outputs": [
        {
          "output_type": "execute_result",
          "data": {
            "text/plain": [
              "220"
            ]
          },
          "metadata": {},
          "execution_count": 259
        }
      ]
    },
    {
      "cell_type": "code",
      "source": [
        "#Dynamic Programming for the Knapsack Problem\n",
        "def DP_knapSack(w, wt, val, n):\n",
        "  #create the table\n",
        "  table = [[0 for x in range(w+1)] for x in range (n+1)]\n",
        "\n",
        "  #populate the table in a bottom-up approach\n",
        "  for i in range(n+1):\n",
        "    for w in range(w+1):\n",
        "      if i == 0 or w == 0:\n",
        "        table[i][w] = 0\n",
        "      elif wt[i-1] <= w:\n",
        "        table[i][w] = max(val[i-1] + table[i-1][w-wt[i-1]],\n",
        "                          table[i-1][w])\n",
        "  return table[n][w]"
      ],
      "metadata": {
        "id": "A8OU1sUJ_1ES"
      },
      "id": "A8OU1sUJ_1ES",
      "execution_count": 260,
      "outputs": []
    },
    {
      "cell_type": "code",
      "source": [
        "#To test:\n",
        "val = [60, 100, 120]\n",
        "wt = [10, 20, 30]\n",
        "w = 50\n",
        "n = len(val)\n",
        "\n",
        "DP_knapSack(w, wt, val, n)"
      ],
      "metadata": {
        "colab": {
          "base_uri": "https://localhost:8080/"
        },
        "id": "GUNeEPHrd-N1",
        "outputId": "c7cffe19-4897-43b9-f462-c15fb7205292"
      },
      "id": "GUNeEPHrd-N1",
      "execution_count": 261,
      "outputs": [
        {
          "output_type": "execute_result",
          "data": {
            "text/plain": [
              "220"
            ]
          },
          "metadata": {},
          "execution_count": 261
        }
      ]
    },
    {
      "cell_type": "code",
      "source": [
        "#Sample for top-down DP approach (memoization)\n",
        "#initialize the list of items\n",
        "val = [60, 100, 120]\n",
        "wt = [10, 20, 30]\n",
        "w = 50\n",
        "n = len(val)\n",
        "\n",
        "#initialize the container for the values that have to be stored\n",
        "#values are initialized to -1\n",
        "calc =[[-1 for i in range(w+1)] for j in range(n+1)]\n",
        "\n",
        "\n",
        "def mem_knapSack(wt, val, w, n):\n",
        "  #base conditions\n",
        "  if n == 0 or w == 0:\n",
        "    return 0\n",
        "  if calc[n][w] != -1:\n",
        "    return calc[n][w]\n",
        "\n",
        "  #compute for the other cases\n",
        "  if wt[n-1] <= w:\n",
        "    calc[n][w] = max(val[n-1] + mem_knapSack(wt, val, w-wt[n-1], n-1),\n",
        "                     mem_knapSack(wt, val, w, n-1))\n",
        "    return calc[n][w]\n",
        "  elif wt[n-1] > w:\n",
        "    calc[n][w] = mem_knapSack(wt, val, w, n-1)\n",
        "    return calc[n][w]\n",
        "\n",
        "mem_knapSack(wt, val, w, n)"
      ],
      "metadata": {
        "id": "VgwTX-XT_0_h",
        "colab": {
          "base_uri": "https://localhost:8080/"
        },
        "outputId": "3deb105d-d416-4c6e-971c-1ba11d0a46a5"
      },
      "id": "VgwTX-XT_0_h",
      "execution_count": 262,
      "outputs": [
        {
          "output_type": "execute_result",
          "data": {
            "text/plain": [
              "220"
            ]
          },
          "metadata": {},
          "execution_count": 262
        }
      ]
    },
    {
      "cell_type": "markdown",
      "source": [
        "**Code Analysis**\n",
        "\n",
        "Type your answer here."
      ],
      "metadata": {
        "id": "-UXSSblDcF8T"
      },
      "id": "-UXSSblDcF8T"
    },
    {
      "cell_type": "markdown",
      "source": [
        "## Seatwork 2.1"
      ],
      "metadata": {
        "id": "IGsdUGCUcTFd"
      },
      "id": "IGsdUGCUcTFd"
    },
    {
      "cell_type": "markdown",
      "id": "0462053d",
      "metadata": {
        "id": "0462053d"
      },
      "source": [
        "Task 1: Modify the three techniques to include additional criterion in the knapsack problems"
      ]
    },
    {
      "cell_type": "code",
      "execution_count": 263,
      "id": "ed2f6186",
      "metadata": {
        "id": "ed2f6186"
      },
      "outputs": [],
      "source": [
        "#type your code here\n",
        "#Recursion\n",
        "def recursive_knap(budget ,capacity, weight, price, value, n):\n",
        "  if n == 0 or capacity == 0:\n",
        "    return 0\n",
        "\n",
        "  if(weight[n-1] > capacity) or (price[n-1] > budget):\n",
        "    return recursive_knap(budget, capacity, weight, price, value, n-1)\n",
        "\n",
        "  else:\n",
        "    return max(\n",
        "        val[n-1] + recursive_knap(budget-price[n-1], capacity-weight[n-1], weight, price , value, n-1),\n",
        "        recursive_knap(budget, capacity, weight, price, value, n-1)\n",
        "    )\n",
        "\n",
        "#Dynamic - Table\n",
        "def tabulation_knap(budget, capacity, weight, price, val, n):\n",
        "  #create the table\n",
        "  table = [[0 for x in range(capacity+1)] for x in range (n+1)]\n",
        "  table2 = [[0 for x in range(budget+1)] for x in range (n+1)]\n",
        "\n",
        "  #populate the table in a bottom-up approach\n",
        "  for i in range(n+1):\n",
        "    for w in range(capacity+1):\n",
        "      if i == 0 or w == 0:\n",
        "        table[i][w] = 0\n",
        "      elif weight[i-1] <= w:\n",
        "          table[i][w] = max(val[i-1] + table[i-1][w-weight[i-1]], table[i-1][w])\n",
        "\n",
        "  for i in range(n+1):\n",
        "    for w in range(budget+1):\n",
        "      if i == 0 or w == 0:\n",
        "        table2[i][w] = 0\n",
        "      elif weight[i-1] <= w:\n",
        "          table2[i][w] = max(val[i-1] + table2[i-1][w-price[i-1]], table2[i-1][w])\n",
        "  return table[n][capacity], table2[n][budget]"
      ]
    },
    {
      "cell_type": "markdown",
      "source": [
        "## **RESULTS FOR ADDED BUDGET CRITERION**"
      ],
      "metadata": {
        "id": "vYYk6uOcGGD_"
      },
      "id": "vYYk6uOcGGD_"
    },
    {
      "cell_type": "code",
      "source": [
        "#To test:\n",
        "val = [60, 100, 140, 180, 220] #values for the items\n",
        "wt = [10, 20, 30, 40, 50] #weight of the items\n",
        "prc = [50, 40, 30, 20, 10] # price of the items\n",
        "cap = 100 #knapsack weight capacity\n",
        "budget = 100 #knapsack budget/ price capacity\n",
        "n = len(val) #number of items"
      ],
      "metadata": {
        "id": "haLdrJnSGGfW"
      },
      "id": "haLdrJnSGGfW",
      "execution_count": 264,
      "outputs": []
    },
    {
      "cell_type": "code",
      "source": [
        "recursive_knap(budget, cap, wt, prc, val, n) # Recursive"
      ],
      "metadata": {
        "colab": {
          "base_uri": "https://localhost:8080/"
        },
        "id": "tNpiVWG9L-g5",
        "outputId": "60b5175c-1e62-44db-cbea-f0e1c5673d97"
      },
      "id": "tNpiVWG9L-g5",
      "execution_count": 265,
      "outputs": [
        {
          "output_type": "execute_result",
          "data": {
            "text/plain": [
              "460"
            ]
          },
          "metadata": {},
          "execution_count": 265
        }
      ]
    },
    {
      "cell_type": "code",
      "source": [
        "tabulation_knap(budget, cap, wt, prc, val, n) # Tabulation"
      ],
      "metadata": {
        "colab": {
          "base_uri": "https://localhost:8080/"
        },
        "id": "IsUo85dUU4gP",
        "outputId": "d7dd644f-80b5-4719-c9f0-f70224413a24"
      },
      "id": "IsUo85dUU4gP",
      "execution_count": 266,
      "outputs": [
        {
          "output_type": "execute_result",
          "data": {
            "text/plain": [
              "(480, 640)"
            ]
          },
          "metadata": {},
          "execution_count": 266
        }
      ]
    },
    {
      "cell_type": "code",
      "source": [
        "val1 = [60, 100, 140, 180, 220] #values for the items\n",
        "wt1 = [10, 20, 30, 40, 50] #weight of the items\n",
        "prc1 = [50, 40, 30, 20, 10] # price of the items\n",
        "cap1 = 100 #knapsack weight capacity\n",
        "budget1 = 100 #knapsack budget/ price capacity\n",
        "n1 = len(val) #number of items\n",
        "\n",
        "#initialize the container for the values that have to be stored\n",
        "#values are initialized to -1\n",
        "calc1 =[[-1 for i in range(cap+1)] for j in range(n+1)]\n",
        "calc2 =[[-1 for i in range(budget+1)] for j in range(n+1)]\n",
        "\n",
        "\n",
        "def mem_knapSack(wt, val, w, n):\n",
        "  #base conditions\n",
        "  if n == 0 or w == 0:\n",
        "    return 0\n",
        "  if calc1[n][w] != -1:\n",
        "    return calc1[n][w]\n",
        "\n",
        "  #compute for the other cases\n",
        "  if wt[n-1] <= w:\n",
        "    calc1[n][w] = max(val[n-1] + mem_knapSack(wt, val, w-wt[n-1], n-1),\n",
        "                     mem_knapSack(wt, val, w, n-1))\n",
        "    return calc1[n][w]\n",
        "  elif wt[n-1] > w:\n",
        "    calc1[n][w] = mem_knapSack(wt, val, w, n-1)\n",
        "    return calc1[n][w]\n",
        "\n",
        "def mem_knapSackBud(wt, val, w, n):\n",
        "  #base conditions\n",
        "  if n == 0 or w == 0:\n",
        "    return 0\n",
        "  if calc2[n][w] != -1:\n",
        "    return calc2[n][w]\n",
        "\n",
        "  #compute for the other cases\n",
        "  if wt[n-1] <= w:\n",
        "    calc2[n][w] = max(val[n-1] + mem_knapSackBud(wt, val, w-wt[n-1], n-1), mem_knapSackBud(wt, val, w, n-1))\n",
        "    return calc2[n][w]\n",
        "  elif wt[n-1] > w:\n",
        "    calc2[n][w] = mem_knapSackBud(wt, val, w, n-1)\n",
        "    return calc2[n][w]"
      ],
      "metadata": {
        "id": "-emM09PcU5U9"
      },
      "id": "-emM09PcU5U9",
      "execution_count": 267,
      "outputs": []
    },
    {
      "cell_type": "code",
      "source": [
        "mem_knapSack(wt1, val1, cap1, n1)"
      ],
      "metadata": {
        "colab": {
          "base_uri": "https://localhost:8080/"
        },
        "id": "nrotii0VXHAO",
        "outputId": "b9b468ad-0a3d-4746-8e26-aabf1e91885b"
      },
      "id": "nrotii0VXHAO",
      "execution_count": 268,
      "outputs": [
        {
          "output_type": "execute_result",
          "data": {
            "text/plain": [
              "480"
            ]
          },
          "metadata": {},
          "execution_count": 268
        }
      ]
    },
    {
      "cell_type": "code",
      "source": [
        "mem_knapSackBud(prc1, val1, budget, n1)"
      ],
      "metadata": {
        "colab": {
          "base_uri": "https://localhost:8080/"
        },
        "id": "s6V1QreIXHOm",
        "outputId": "a50797fd-4bb2-4999-a203-3090a48d8f38"
      },
      "id": "s6V1QreIXHOm",
      "execution_count": 269,
      "outputs": [
        {
          "output_type": "execute_result",
          "data": {
            "text/plain": [
              "640"
            ]
          },
          "metadata": {},
          "execution_count": 269
        }
      ]
    },
    {
      "cell_type": "markdown",
      "id": "d97e864e",
      "metadata": {
        "id": "d97e864e"
      },
      "source": [
        "Fibonacci Numbers"
      ]
    },
    {
      "cell_type": "markdown",
      "id": "f44e88aa",
      "metadata": {
        "id": "f44e88aa"
      },
      "source": [
        "Task 2: Create a sample program that find the nth number of Fibonacci Series using Dynamic Programming"
      ]
    },
    {
      "cell_type": "code",
      "execution_count": 270,
      "id": "745871be",
      "metadata": {
        "id": "745871be",
        "colab": {
          "base_uri": "https://localhost:8080/"
        },
        "outputId": "e8fbdf3d-0e61-463e-d313-9538328d3928"
      },
      "outputs": [
        {
          "output_type": "stream",
          "name": "stdout",
          "text": [
            "[0, 1, 1, 2, 3, 5, 8]\n"
          ]
        }
      ],
      "source": [
        "#type your code here\n",
        "def fibTab(n):\n",
        "  tb = [0, 1]\n",
        "  for i in range(2, n+1):\n",
        "    tb.append(tb[i-1] + tb[i-2])\n",
        "  return tb\n",
        "\n",
        "print(fibTab(6))"
      ]
    },
    {
      "cell_type": "markdown",
      "id": "070ddd75",
      "metadata": {
        "id": "070ddd75"
      },
      "source": [
        "## Supplementary Problem (HOA 2.1 Submission):\n",
        "* Choose a real-life problem\n",
        "* Use recursion and dynamic programming to solve the problem"
      ]
    },
    {
      "cell_type": "markdown",
      "source": [
        "## **PROBLEM**\n",
        "## - Mr. Jujutsu Martinez wants to limit his electrical bill to P2000/month while still maximizing the hours of usage of his appliances per day. With the given data, help him before he gives you a 3.00"
      ],
      "metadata": {
        "id": "W1tUlsE8Xsde"
      },
      "id": "W1tUlsE8Xsde"
    },
    {
      "cell_type": "markdown",
      "source": [
        "**all the data is referenced in this article: http://www.bulacanliving.com/electricity-cost-of-appliances.html**"
      ],
      "metadata": {
        "id": "58NX8uGGgMBf"
      },
      "id": "58NX8uGGgMBf"
    },
    {
      "cell_type": "code",
      "source": [
        "appliances = [\"​7 cu.ft refrigerator (non-inverter type)\", \"10kg automatic washing machine\", \"​regular 16 inch desk fan\", \"regular 1.0 H.P airconditioner\", \"vacuum cleaner\"]\n",
        "time_usage = [24, 1, 20, 8, 1] # hrs/per day\n",
        "pricess = [500, 530, 480, 1,900, 250] # rounded price per month\n",
        "budgets = 2000 # in pesos\n",
        "no = len(appliances) # No of appliances"
      ],
      "metadata": {
        "id": "P6QxrLLoaoZP"
      },
      "id": "P6QxrLLoaoZP",
      "execution_count": 271,
      "outputs": []
    },
    {
      "cell_type": "markdown",
      "source": [
        "## **Recursive**"
      ],
      "metadata": {
        "id": "HBa2vgcwpGzq"
      },
      "id": "HBa2vgcwpGzq"
    },
    {
      "cell_type": "code",
      "execution_count": 272,
      "id": "86eef507",
      "metadata": {
        "id": "86eef507"
      },
      "outputs": [],
      "source": [
        "#type your code here for recursion programming solution\n",
        "def recursion_solution(budget, price, time_usage, n):\n",
        "  if n == 0 or budget == 0:\n",
        "    return 0\n",
        "  if(price[n-1] > budget):\n",
        "    return recursion_solution(budget, price, time_usage, n-1)\n",
        "  else:\n",
        "    return max(time_usage[n-1] + recursion_solution(budget-price[n-1], price, time_usage, n-1),recursion_solution(budget, price, time_usage, n-1))"
      ]
    },
    {
      "cell_type": "markdown",
      "source": [
        "## **TABULATION METHOD**"
      ],
      "metadata": {
        "id": "L0qHU2AasUHM"
      },
      "id": "L0qHU2AasUHM"
    },
    {
      "cell_type": "code",
      "execution_count": 273,
      "id": "73b071b6",
      "metadata": {
        "id": "73b071b6"
      },
      "outputs": [],
      "source": [
        "#type your code here for dynamic programming solution\n",
        "def tabulation_solution(budget, price, time_usage, n):\n",
        "  table = [[0 for x in range(budget+1)] for x in range (n+1)]\n",
        "\n",
        "  for i in range(n+1):\n",
        "    for w in range(budget+1):\n",
        "      if i == 0 or w == 0:\n",
        "        table[i][w] = 0\n",
        "      elif price[i-1] <= w:\n",
        "        table[i][w] = max(time_usage[i-1] + table[i-1][w-price[i-1]],table[i-1][w])\n",
        "  return table[n][budget]"
      ]
    },
    {
      "cell_type": "markdown",
      "source": [
        "## **MEMOIZATION SOLUTION**"
      ],
      "metadata": {
        "id": "4UYM4qMRr5Fj"
      },
      "id": "4UYM4qMRr5Fj"
    },
    {
      "cell_type": "code",
      "source": [
        "memo =[[-1 for i in range(budgets+1)] for j in range(no+1)]\n",
        "\n",
        "def memoi_solution(prices, time_usage, bt, n):\n",
        "  if n == 0 or bt == 0:\n",
        "    return 0\n",
        "  if memo[n][bt] != -1:\n",
        "    return memo[n][bt]\n",
        "  if prices[n-1] <= bt:\n",
        "    memo[n][bt] = max(time_usage[n-1] + memoi_solution(prices, time_usage, bt-prices[n-1], n-1), memoi_solution(prices, time_usage, bt, n-1))\n",
        "    return memo[n][bt]\n",
        "  elif prices[n-1] > bt:\n",
        "    memo[n][bt] = memoi_solution(prices, time_usage, bt, n-1)\n",
        "    return memo[n][bt]"
      ],
      "metadata": {
        "id": "OfaCvrRJo1pq"
      },
      "id": "OfaCvrRJo1pq",
      "execution_count": 274,
      "outputs": []
    },
    {
      "cell_type": "markdown",
      "id": "bb0ed6a9",
      "metadata": {
        "id": "bb0ed6a9"
      },
      "source": [
        "#### Conclusion"
      ]
    },
    {
      "cell_type": "code",
      "execution_count": 275,
      "id": "9627d18c",
      "metadata": {
        "id": "9627d18c",
        "colab": {
          "base_uri": "https://localhost:8080/"
        },
        "outputId": "29fedb57-c467-4d55-9c91-14a97826c0c8"
      },
      "outputs": [
        {
          "output_type": "stream",
          "name": "stdout",
          "text": [
            "Recursion:  53\n",
            "Tabulation:  53\n",
            "Memoization:  53\n",
            "It means that Mr. Jujutsu can use 53 hrs of eletricity (Excluded the Aircon) without exceeding P2000 in electrical bill\n"
          ]
        }
      ],
      "source": [
        "#type your answer here\n",
        "print(\"Recursion: \", recursion_solution(budgets, pricess, time_usage, no)) # ANSWER in RECURSIVE APPROACH\n",
        "print(\"Tabulation: \", tabulation_solution(budgets, pricess, time_usage, no)) # ANSWER in TABULATION APPROACH\n",
        "print(\"Memoization: \", memoi_solution(pricess, time_usage, budgets, no)) # ANSWER in MEMOIZATION APPROACH\n",
        "print(f\"It means that Mr. Jujutsu can use {memoi_solution(pricess, time_usage, budgets, no)} hrs of eletricity (Excluded the Aircon) without exceeding P2000 in electrical bill\")"
      ]
    },
    {
      "cell_type": "code",
      "source": [
        "# Created by Kynamittens"
      ],
      "metadata": {
        "id": "vjk7soeMsuZr"
      },
      "id": "vjk7soeMsuZr",
      "execution_count": 276,
      "outputs": []
    }
  ],
  "metadata": {
    "kernelspec": {
      "display_name": "Python 3",
      "language": "python",
      "name": "python3"
    },
    "language_info": {
      "codemirror_mode": {
        "name": "ipython",
        "version": 3
      },
      "file_extension": ".py",
      "mimetype": "text/x-python",
      "name": "python",
      "nbconvert_exporter": "python",
      "pygments_lexer": "ipython3",
      "version": "3.7.10"
    },
    "colab": {
      "provenance": []
    }
  },
  "nbformat": 4,
  "nbformat_minor": 5
}