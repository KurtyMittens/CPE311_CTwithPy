{
 "cells": [
  {
   "cell_type": "markdown",
   "id": "12d848e668b7ce5b",
   "metadata": {},
   "source": [
    "# **Team Activity**\n",
    "*created by Jemuel De Guzman and Kurt Russel A. Villamor*\n",
    "\n",
    "## **Algorithm**\n",
    "- 1 START\n",
    "- 2 put the sheep from the farm to the boat\n",
    "- 3 Drop sheep in the other side\n",
    "- 4 go back to farm\n",
    "- 6 put cabbage to boat\n",
    "- 7 swap sheep to cabbage\n",
    "- 8 go back to farm\n",
    "- 9 swap sheep to wolf\n",
    "- 10 drop the wolf to other side\n",
    "- 11 go back to farm\n",
    "- 12 put the sheep from the farm to the boat\n",
    "- 13 Drop sheep in the other side\n",
    "- 14 END"
   ]
  },
  {
   "cell_type": "markdown",
   "id": "d01021de70f0821d",
   "metadata": {},
   "source": [
    "## **Classes/Code**"
   ]
  },
  {
   "cell_type": "code",
   "execution_count": 97,
   "id": "dea2e99ac7bc425a",
   "metadata": {
    "ExecuteTime": {
     "end_time": "2024-01-25T14:20:57.724449Z",
     "start_time": "2024-01-25T14:20:57.640863900Z"
    }
   },
   "outputs": [],
   "source": [
    "# Classes\n",
    "class Cabbage:\n",
    "    def __init__(self):\n",
    "        self.name = \"Cabbage\"\n",
    "\n",
    "class Sheep:\n",
    "    def __init__(self):\n",
    "        self.name = \"Sheep\"\n",
    "\n",
    "class Wolf:\n",
    "    def __init__(self):\n",
    "        self.name = \"Wolf\"\n",
    "\n",
    "class Boat:\n",
    "    def __init__(self):\n",
    "        self.passenger = None\n",
    "\n",
    "\n",
    "    def takePassenger(self, location, passenger):\n",
    "        if passenger in location:\n",
    "            location.remove(passenger)\n",
    "            self.passenger = passenger\n",
    "            print(f\"Taken {self.passenger.name} as a passenger\")\n",
    "            self.checkBoat(location)\n",
    "        else:\n",
    "            print(f\"No {passenger.name} is on this side\")\n",
    "\n",
    "    def dropPassenger(self, location):\n",
    "        location.append(self.passenger)\n",
    "        print(f\"Dropped {self.passenger.name}\")\n",
    "        self.checkBoat(location)\n",
    "\n",
    "    def swap(self, location):\n",
    "        if len(location) == 1:\n",
    "            self.alonePassenger = location[0]\n",
    "            location[0] = self.passenger\n",
    "            print(f\"Swap {self.alonePassenger.name} and {self.passenger.name}\")\n",
    "            self.passenger = self.alonePassenger\n",
    "            self.checkBoat(location)\n",
    "\n",
    "    def checkBoat(self, location):\n",
    "        if len(location) == 2:\n",
    "            names = []\n",
    "            for i in location:\n",
    "                names.append(i.name)\n",
    "            if \"Sheep\" in names:\n",
    "                if \"Wolf\" in names:\n",
    "                    print(\"Wolf is not allowed with the Sheep\")\n",
    "                if \"Cabbage\" in names:\n",
    "                    print(\"Cabbage is not allowed with the Sheep\")\n",
    "\n",
    "\n",
    "def print_by_loc(location):\n",
    "    passengers = []\n",
    "    for i in location:\n",
    "        passengers.append(i.name)\n",
    "    print(f\"{passengers}\")"
   ]
  },
  {
   "cell_type": "markdown",
   "id": "f2226533a032be4e",
   "metadata": {},
   "source": [
    "## **Initialization**\n",
    "***1 START***\n",
    "- calling the classes  and putting them to a list/array representing the location"
   ]
  },
  {
   "cell_type": "code",
   "execution_count": 98,
   "id": "387776c26f013b89",
   "metadata": {
    "ExecuteTime": {
     "end_time": "2024-01-25T14:20:57.770086500Z",
     "start_time": "2024-01-25T14:20:57.644916100Z"
    }
   },
   "outputs": [],
   "source": [
    "cabbage = Cabbage()\n",
    "wolf = Wolf()\n",
    "sheep = Sheep()\n",
    "boat = Boat()\n",
    "\n",
    "Farm = [cabbage, wolf, sheep] # The starting Point of the Problem\n",
    "OtherSide = [] # The end point"
   ]
  },
  {
   "cell_type": "markdown",
   "id": "5828a85d3d7d509c",
   "metadata": {},
   "source": [
    "***2 Put the sheep from the farm to the boat***\n",
    "- From Farm, we get the sheep to the boat."
   ]
  },
  {
   "cell_type": "code",
   "execution_count": 99,
   "id": "cca89b4f06f42aca",
   "metadata": {
    "ExecuteTime": {
     "end_time": "2024-01-25T14:20:57.772087600Z",
     "start_time": "2024-01-25T14:20:57.664256200Z"
    }
   },
   "outputs": [
    {
     "name": "stdout",
     "output_type": "stream",
     "text": [
      "Taken Sheep as a passenger\n"
     ]
    }
   ],
   "source": [
    "boat.takePassenger(Farm, sheep)"
   ]
  },
  {
   "cell_type": "markdown",
   "id": "653ae89d801c7d9",
   "metadata": {},
   "source": [
    "***3 Drop sheep in the other side***\n",
    "- Drop the sheep to the OtherSide."
   ]
  },
  {
   "cell_type": "code",
   "execution_count": 100,
   "id": "61071971e77b1278",
   "metadata": {
    "ExecuteTime": {
     "end_time": "2024-01-25T14:20:57.774090600Z",
     "start_time": "2024-01-25T14:20:57.668135100Z"
    }
   },
   "outputs": [
    {
     "name": "stdout",
     "output_type": "stream",
     "text": [
      "Dropped Sheep\n"
     ]
    }
   ],
   "source": [
    "boat.dropPassenger(OtherSide)"
   ]
  },
  {
   "cell_type": "markdown",
   "id": "aa838cea2d0329c4",
   "metadata": {},
   "source": [
    "***4 go back to farm***\n",
    "***6 put cabbage to boat***\n",
    "- From the Farm, we get the cabbage"
   ]
  },
  {
   "cell_type": "code",
   "execution_count": 101,
   "id": "70844fd45863cd05",
   "metadata": {
    "ExecuteTime": {
     "end_time": "2024-01-25T14:20:57.781638900Z",
     "start_time": "2024-01-25T14:20:57.673855700Z"
    }
   },
   "outputs": [
    {
     "name": "stdout",
     "output_type": "stream",
     "text": [
      "Taken Cabbage as a passenger\n"
     ]
    }
   ],
   "source": [
    "boat.takePassenger(Farm, cabbage)"
   ]
  },
  {
   "cell_type": "markdown",
   "id": "18b335e0400403c8",
   "metadata": {},
   "source": [
    "***7 swap sheep to cabbage***\n",
    "- Since, sheep and cabbage can't be together resulting in an error prompt, we propose that the method dropPassenger() will not be used."
   ]
  },
  {
   "cell_type": "markdown",
   "id": "7390db999b84880",
   "metadata": {},
   "source": [
    "*boat.dropPassenger(OtherSide)*\n",
    "*Output = Dropped Cabbage is not allowed with the Sheep*"
   ]
  },
  {
   "cell_type": "markdown",
   "id": "55dcaff664b6020",
   "metadata": {},
   "source": [
    "- as an alternative, we made a swap function for the passenger and alone passenger in the location."
   ]
  },
  {
   "cell_type": "code",
   "execution_count": 102,
   "id": "27d58d70eb68b501",
   "metadata": {
    "ExecuteTime": {
     "end_time": "2024-01-25T14:20:57.781638900Z",
     "start_time": "2024-01-25T14:20:57.676252800Z"
    }
   },
   "outputs": [
    {
     "name": "stdout",
     "output_type": "stream",
     "text": [
      "Swap Sheep and Cabbage\n"
     ]
    }
   ],
   "source": [
    "boat.swap(OtherSide)"
   ]
  },
  {
   "cell_type": "markdown",
   "id": "ceae31bafc67ac00",
   "metadata": {},
   "source": [
    "***8 go back to farm***\n",
    "***9 swap sheep to wolf***\n",
    "- same in these steps, swap is the option since Wolf and Sheep is not allowed together."
   ]
  },
  {
   "cell_type": "code",
   "execution_count": 103,
   "id": "6e8a8057eccf4447",
   "metadata": {
    "ExecuteTime": {
     "end_time": "2024-01-25T14:20:57.782637100Z",
     "start_time": "2024-01-25T14:20:57.681665900Z"
    }
   },
   "outputs": [
    {
     "name": "stdout",
     "output_type": "stream",
     "text": [
      "Swap Wolf and Sheep\n"
     ]
    }
   ],
   "source": [
    "boat.swap(Farm)"
   ]
  },
  {
   "cell_type": "markdown",
   "id": "c1c73699b33ac1b6",
   "metadata": {},
   "source": [
    "***10 drop the wolf to other side***\n",
    "- wolf and cabbage has no constrains"
   ]
  },
  {
   "cell_type": "code",
   "execution_count": 104,
   "id": "f5a28fa7890f44b5",
   "metadata": {
    "ExecuteTime": {
     "end_time": "2024-01-25T14:20:57.783636900Z",
     "start_time": "2024-01-25T14:20:57.687236900Z"
    }
   },
   "outputs": [
    {
     "name": "stdout",
     "output_type": "stream",
     "text": [
      "Dropped Wolf\n"
     ]
    }
   ],
   "source": [
    "boat.dropPassenger(OtherSide)"
   ]
  },
  {
   "cell_type": "markdown",
   "id": "b6f74854bd85898b",
   "metadata": {},
   "source": [
    "***11 go back to farm***\n",
    "***12 put the sheep from the farm to the boat***\n",
    "- same as the first step"
   ]
  },
  {
   "cell_type": "code",
   "execution_count": 105,
   "id": "6147030a0c7d9ed2",
   "metadata": {
    "ExecuteTime": {
     "end_time": "2024-01-25T14:20:57.784636900Z",
     "start_time": "2024-01-25T14:20:57.689602100Z"
    }
   },
   "outputs": [
    {
     "name": "stdout",
     "output_type": "stream",
     "text": [
      "Taken Sheep as a passenger\n"
     ]
    }
   ],
   "source": [
    "boat.takePassenger(Farm, sheep)"
   ]
  },
  {
   "cell_type": "markdown",
   "id": "ba567624e0a78fa4",
   "metadata": {},
   "source": [
    "***13 Drop sheep in the other side***\n",
    "- same step in the second step"
   ]
  },
  {
   "cell_type": "code",
   "execution_count": 106,
   "id": "5c5973b442fd1ff0",
   "metadata": {
    "ExecuteTime": {
     "end_time": "2024-01-25T14:20:57.784636900Z",
     "start_time": "2024-01-25T14:20:57.695307200Z"
    }
   },
   "outputs": [
    {
     "name": "stdout",
     "output_type": "stream",
     "text": [
      "Dropped Sheep\n"
     ]
    }
   ],
   "source": [
    "boat.dropPassenger(OtherSide)"
   ]
  },
  {
   "cell_type": "markdown",
   "id": "9425e92e28562cd0",
   "metadata": {},
   "source": [
    "***14 END***"
   ]
  },
  {
   "cell_type": "code",
   "execution_count": 107,
   "id": "9b3abde6b37e7eb8",
   "metadata": {
    "ExecuteTime": {
     "end_time": "2024-01-25T14:20:57.784636900Z",
     "start_time": "2024-01-25T14:20:57.699290900Z"
    }
   },
   "outputs": [
    {
     "name": "stdout",
     "output_type": "stream",
     "text": [
      "[]\n",
      "['Cabbage', 'Wolf', 'Sheep']\n"
     ]
    }
   ],
   "source": [
    "print_by_loc(Farm) # Farm Ending State\n",
    "print_by_loc(OtherSide) # OtherSide Ending State"
   ]
  },
  {
   "cell_type": "markdown",
   "id": "9a7de947-a662-4418-b4b5-d943ec9ed2c9",
   "metadata": {},
   "source": [
    "## **Representation**"
   ]
  },
  {
   "cell_type": "markdown",
   "id": "7105f20c-dcc0-4a0c-892a-fd3333323ae5",
   "metadata": {},
   "source": [
    "<img src=\"1.png\" width=600 height=600 />\n",

   ]
  },
  {
   "cell_type": "code",
   "execution_count": 108,
   "id": "1ef4aa06-178b-45af-a864-b84539ad33ee",
   "metadata": {
    "ExecuteTime": {
     "end_time": "2024-01-25T14:20:57.796172200Z",
     "start_time": "2024-01-25T14:20:57.712102200Z"
    }
   },
   "outputs": [],
   "source": [
    "# Created by Kynamittens and xeno..."
   ]
  },
  {
   "cell_type": "code",
   "execution_count": null,
   "id": "79a56dc5",
   "metadata": {},
   "outputs": [],
   "source": []
  }
 ],
 "metadata": {
  "kernelspec": {
   "display_name": "Python 3 (ipykernel)",
   "language": "python",
   "name": "python3"
  },
  "language_info": {
   "codemirror_mode": {
    "name": "ipython",
    "version": 3
   },
   "file_extension": ".py",
   "mimetype": "text/x-python",
   "name": "python",
   "nbconvert_exporter": "python",
   "pygments_lexer": "ipython3",
   "version": "3.11.4"
  }
 },
 "nbformat": 4,
 "nbformat_minor": 5
}
