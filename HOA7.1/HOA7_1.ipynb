{
  "nbformat": 4,
  "nbformat_minor": 0,
  "metadata": {
    "colab": {
      "private_outputs": true,
      "provenance": []
    },
    "kernelspec": {
      "name": "python3",
      "display_name": "Python 3"
    },
    "language_info": {
      "name": "python"
    }
  },
  "cells": [
    {
      "cell_type": "markdown",
      "source": [
        "# Module 7: Data Wranglling with Pandas"
      ],
      "metadata": {
        "id": "UbgP8iqXwilC"
      }
    },
    {
      "cell_type": "markdown",
      "source": [
        "## CPE311 Computational Thinking with Python"
      ],
      "metadata": {
        "id": "ZczN-KyCwsQS"
      }
    },
    {
      "cell_type": "markdown",
      "source": [
        "Submitted By: Villamor, Kurt Russel\n",
        "\n",
        "Performed on:  03/20/2024\n",
        "\n",
        "Submitted on: 03/20/2024"
      ],
      "metadata": {
        "id": "ga576fEjxUXA"
      }
    },
    {
      "cell_type": "markdown",
      "source": [
        "Submitted to: Engr. Roman M Richard"
      ],
      "metadata": {
        "id": "waoK-mCaxmtP"
      }
    },
    {
      "cell_type": "markdown",
      "source": [
        "## 7.1 Supplementary Activity\n",
        "Using the dataset provided, Perform The Following Activity"
      ],
      "metadata": {
        "id": "qlk1o4P7xuvt"
      }
    },
    {
      "cell_type": "markdown",
      "source": [
        "## Exercise 1"
      ],
      "metadata": {
        "id": "8bbBzew-yVQW"
      }
    },
    {
      "cell_type": "code",
      "source": [
        "import pandas as pd"
      ],
      "metadata": {
        "id": "ZqCtqiumy97V"
      },
      "execution_count": null,
      "outputs": []
    },
    {
      "cell_type": "markdown",
      "source": [
        "1. Read Each File"
      ],
      "metadata": {
        "id": "5jTtWhKYyxt6"
      }
    },
    {
      "cell_type": "code",
      "source": [
        "apple_df = pd.DataFrame(pd.read_csv(\"/content/sample_data/aapl.csv\"))\n",
        "apple_df.head(10)"
      ],
      "metadata": {
        "id": "O7jvJIsGxUJ8"
      },
      "execution_count": null,
      "outputs": []
    },
    {
      "cell_type": "code",
      "source": [
        "amazon_df = pd.DataFrame(pd.read_csv(\"/content/sample_data//amzn.csv\"))\n",
        "amazon_df.head(10)"
      ],
      "metadata": {
        "id": "ev6wknOax6ak"
      },
      "execution_count": null,
      "outputs": []
    },
    {
      "cell_type": "code",
      "execution_count": null,
      "metadata": {
        "id": "gAG09awQvvef"
      },
      "outputs": [],
      "source": [
        "facebook_df = pd.DataFrame(pd.read_csv(\"/content/sample_data//fb.csv\"))\n",
        "facebook_df.head(10)"
      ]
    },
    {
      "cell_type": "code",
      "source": [
        "google_df = pd.DataFrame(pd.read_csv(\"/content/sample_data//goog.csv\"))\n",
        "google_df.head(10)"
      ],
      "metadata": {
        "id": "xlO8SYWXzVGY"
      },
      "execution_count": null,
      "outputs": []
    },
    {
      "cell_type": "code",
      "source": [
        "netflix_df = pd.DataFrame(pd.read_csv(\"/content/sample_data//nflx.csv\"))\n",
        "netflix_df.head(10)"
      ],
      "metadata": {
        "id": "nk4b8jBgzVXt"
      },
      "execution_count": null,
      "outputs": []
    },
    {
      "cell_type": "markdown",
      "source": [
        "2. Add a column to each dataframe, called ticker symbol it is for. This is how you look up your stock. Each file name is also the ticker symbol, o make sure you capitalize it"
      ],
      "metadata": {
        "id": "hkbIgYEPzzP3"
      }
    },
    {
      "cell_type": "code",
      "source": [
        "apple_df[\"ticker\"] = \"AAPL\"\n",
        "apple_df.head(10)"
      ],
      "metadata": {
        "id": "rq8L8P2Uzyzr"
      },
      "execution_count": null,
      "outputs": []
    },
    {
      "cell_type": "code",
      "source": [
        "amazon_df[\"ticker\"] = \"AMZN\"\n",
        "amazon_df.head(10)"
      ],
      "metadata": {
        "id": "14dvM3N11zSS"
      },
      "execution_count": null,
      "outputs": []
    },
    {
      "cell_type": "code",
      "source": [
        "facebook_df[\"ticker\"] = \"FB\"\n",
        "facebook_df.head(10)"
      ],
      "metadata": {
        "id": "pYsyQ8c61zmE"
      },
      "execution_count": null,
      "outputs": []
    },
    {
      "cell_type": "code",
      "source": [
        "google_df[\"ticker\"] = \"GOOG\"\n",
        "google_df.head(10)"
      ],
      "metadata": {
        "id": "ZiJWPtNV1z00"
      },
      "execution_count": null,
      "outputs": []
    },
    {
      "cell_type": "code",
      "source": [
        "netflix_df[\"ticker\"] = \"NFLX\"\n",
        "netflix_df.head(10)"
      ],
      "metadata": {
        "id": "sX0AqdKr10-9"
      },
      "execution_count": null,
      "outputs": []
    },
    {
      "cell_type": "markdown",
      "source": [
        "3. Append them together into a single dataframe"
      ],
      "metadata": {
        "id": "_yf3s9od2W9n"
      }
    },
    {
      "cell_type": "code",
      "source": [
        "faang_df = pd.concat(\n",
        "    [apple_df, amazon_df, facebook_df, google_df, netflix_df]\n",
        ")\n",
        "faang_df"
      ],
      "metadata": {
        "id": "qZNJklKy2WzQ"
      },
      "execution_count": null,
      "outputs": []
    },
    {
      "cell_type": "markdown",
      "source": [
        "4. Save the result in a CSV file called faang.csv"
      ],
      "metadata": {
        "id": "m0SNNQrC4Zyq"
      }
    },
    {
      "cell_type": "code",
      "source": [
        "faang_df.to_csv(\"/content/sample_data/faang.csv\")"
      ],
      "metadata": {
        "id": "TGH5meB_4e-N"
      },
      "execution_count": null,
      "outputs": []
    },
    {
      "cell_type": "markdown",
      "source": [
        "## Exercise 2"
      ],
      "metadata": {
        "id": "Iz996ve_5dBM"
      }
    },
    {
      "cell_type": "markdown",
      "source": [
        "- With faang, use the type conversion to change the column into timedate and the volume into integers"
      ],
      "metadata": {
        "id": "oMY-n3MK5fkj"
      }
    },
    {
      "cell_type": "code",
      "source": [
        "faang_df.dtypes"
      ],
      "metadata": {
        "id": "w8getHAx6qR-"
      },
      "execution_count": null,
      "outputs": []
    },
    {
      "cell_type": "code",
      "source": [
        "faang_df = faang_df.assign(\n",
        "  date = pd.to_datetime(faang_df.date),\n",
        "  volume = faang_df.volume.astype(int)\n",
        ")"
      ],
      "metadata": {
        "id": "TKSUnOOP53HH"
      },
      "execution_count": null,
      "outputs": []
    },
    {
      "cell_type": "code",
      "source": [
        "faang_df.dtypes"
      ],
      "metadata": {
        "id": "35M1tWvH6feO"
      },
      "execution_count": null,
      "outputs": []
    },
    {
      "cell_type": "code",
      "source": [
        "faang_df.sort_values(['date' , 'ticker'], ascending=True)"
      ],
      "metadata": {
        "id": "8Jg-NFem9M_2"
      },
      "execution_count": null,
      "outputs": []
    },
    {
      "cell_type": "markdown",
      "source": [
        "-   Find the 7 rows with the highest value for volume"
      ],
      "metadata": {
        "id": "fZrRynwX9Enx"
      }
    },
    {
      "cell_type": "code",
      "source": [
        "faang_df.nlargest(n = 7, columns='volume')"
      ],
      "metadata": {
        "id": "VpUm6jG49E15"
      },
      "execution_count": null,
      "outputs": []
    },
    {
      "cell_type": "markdown",
      "source": [
        "- Use melt to make it commpletely long format"
      ],
      "metadata": {
        "id": "T-VnDwIH-gKq"
      }
    },
    {
      "cell_type": "code",
      "source": [
        "pd.melt(\n",
        "    faang_df,\n",
        "    id_vars=['date', 'ticker'],\n",
        "    value_vars=['open', 'high', 'close', 'volume']\n",
        "),"
      ],
      "metadata": {
        "id": "6Zbx_5ev-sIi"
      },
      "execution_count": null,
      "outputs": []
    },
    {
      "cell_type": "markdown",
      "source": [
        "##  Exercise 3"
      ],
      "metadata": {
        "id": "shSZR8PxAoim"
      }
    },
    {
      "cell_type": "markdown",
      "source": [
        "- using webscraping, search for the list of the hospital, their address and contact information."
      ],
      "metadata": {
        "id": "rCCIbyShC-y0"
      }
    },
    {
      "cell_type": "code",
      "source": [
        "import requests\n",
        "from bs4 import BeautifulSoup"
      ],
      "metadata": {
        "id": "JEfU8GXjAnIp"
      },
      "execution_count": null,
      "outputs": []
    },
    {
      "cell_type": "code",
      "source": [
        "url = \"https://sulit.ph/list-of-hospitals-in-metro-manila-with-contact-details-website-and-social-media-accounts/\"\n",
        "response = requests.get(url)\n",
        "print(response.text[:500])"
      ],
      "metadata": {
        "id": "AIWFwtdnHDGb"
      },
      "execution_count": null,
      "outputs": []
    },
    {
      "cell_type": "code",
      "source": [
        "html_soup = BeautifulSoup(response.text, 'html.parser')"
      ],
      "metadata": {
        "id": "4XoHiEowGsWc"
      },
      "execution_count": null,
      "outputs": []
    },
    {
      "cell_type": "code",
      "source": [
        "results = html_soup.find_all('td')\n",
        "\n",
        "cnt = 0\n",
        "data_holder = []\n",
        "place = []\n",
        "nameHospital = []\n",
        "contact_number = []\n",
        "email =[]\n",
        "facebook_link = []\n",
        "for i in results:\n",
        "  data_holder.append(i.text)\n",
        "\n",
        "data_holder = data_holder[10:]\n",
        "print(data_holder)"
      ],
      "metadata": {
        "id": "aW7Wk2M5IyZ3"
      },
      "execution_count": null,
      "outputs": []
    },
    {
      "cell_type": "code",
      "source": [
        "countArr = {0:place, 1:nameHospital, 2:contact_number, 3:email, 4:facebook_link}\n",
        "for i in range(len(data_holder)):\n",
        "  countArr[cnt].append(data_holder[i])\n",
        "  cnt+=1\n",
        "  if cnt > 4:\n",
        "    cnt = 0"
      ],
      "metadata": {
        "id": "wL8iBchdRG0_"
      },
      "execution_count": null,
      "outputs": []
    },
    {
      "cell_type": "code",
      "source": [
        "hospitals_df = pd.DataFrame({\"placehospital\":place,\n",
        "                             \"namehospital\":nameHospital,\n",
        "                             \"contactnumbehospital\":contact_number,\n",
        "                             \"emailhospital\":email,\n",
        "                             \"facebooklinkhospital\":facebook_link})\n",
        "hospitals_df"
      ],
      "metadata": {
        "id": "gm93wz6YUpbm"
      },
      "execution_count": null,
      "outputs": []
    },
    {
      "cell_type": "code",
      "source": [
        "hospitals_df.to_csv('/content/sample_data/hospitals.csv')"
      ],
      "metadata": {
        "id": "0TndcVmYeX_h"
      },
      "execution_count": null,
      "outputs": []
    },
    {
      "cell_type": "code",
      "source": [
        "hosp_df = pd.DataFrame(pd.read_csv(\"/content/sample_data/hospitals.csv\"))\n",
        "hosp_df.head(10)"
      ],
      "metadata": {
        "id": "nlRbRnfrgsDa"
      },
      "execution_count": null,
      "outputs": []
    },
    {
      "cell_type": "code",
      "source": [
        "hosp_df.columns"
      ],
      "metadata": {
        "id": "6VQB3SYtjXPL"
      },
      "execution_count": null,
      "outputs": []
    },
    {
      "cell_type": "code",
      "source": [
        "hosp_df.set_index('namehospital', inplace=True)\n",
        "hosp_df.head()"
      ],
      "metadata": {
        "id": "7rpCU5ReiKyl"
      },
      "execution_count": null,
      "outputs": []
    },
    {
      "cell_type": "code",
      "source": [
        "hosp_df.drop(['Unnamed: 0', 'facebooklinkhospital'], axis=1, inplace=True)\n",
        "hosp_df.head()"
      ],
      "metadata": {
        "id": "p2qBqL4MjhUV"
      },
      "execution_count": null,
      "outputs": []
    },
    {
      "cell_type": "code",
      "source": [
        "hosp_df.dropna(axis = 0, inplace=True)\n",
        "hosp_df"
      ],
      "metadata": {
        "id": "EsRJslvlkL8f"
      },
      "execution_count": null,
      "outputs": []
    },
    {
      "cell_type": "markdown",
      "source": [],
      "metadata": {
        "id": "YV2GbLaimXR3"
      }
    },
    {
      "cell_type": "markdown",
      "source": [
        "## Conclusion"
      ],
      "metadata": {
        "id": "xOVBeNiClp4f"
      }
    },
    {
      "cell_type": "markdown",
      "source": [
        "- In this Activity Ive learned t=Wrangling data, to  get data from the net and do omething from the data. It still challenging to me for some syntax of pandaS BUT I THINK I STRUGGLED IN THE DATA COLLECTING PART. but overall, I enjoyed the experience in which I gathered a data set by webscraping rather than ust copying someones data set somewhere"
      ],
      "metadata": {
        "id": "ZphC1vzNlsjI"
      }
    }
  ]
}