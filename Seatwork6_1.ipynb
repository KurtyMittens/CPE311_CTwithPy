{
  "nbformat": 4,
  "nbformat_minor": 0,
  "metadata": {
    "colab": {
      "private_outputs": true,
      "provenance": [],
      "authorship_tag": "ABX9TyNuxpTw0hVhYTwg3TJY5wp9",
      "include_colab_link": true
    },
    "kernelspec": {
      "name": "python3",
      "display_name": "Python 3"
    },
    "language_info": {
      "name": "python"
    }
  },
  "cells": [
    {
      "cell_type": "markdown",
      "metadata": {
        "id": "view-in-github",
        "colab_type": "text"
      },
      "source": [
        "<a href=\"https://colab.research.google.com/github/KurtyMittens/CPE311_CTwithPy/blob/main/Seatwork6_1.ipynb\" target=\"_parent\"><img src=\"https://colab.research.google.com/assets/colab-badge.svg\" alt=\"Open In Colab\"/></a>"
      ]
    },
    {
      "cell_type": "markdown",
      "source": [
        "# HOUSING PRICE PREDICTION DATASET\n",
        "\n",
        "- Housing prices can be tough but still it is gud to study!"
      ],
      "metadata": {
        "id": "nR_8PXCoIJCz"
      }
    },
    {
      "cell_type": "markdown",
      "source": [
        "- Importing pandas and numpy"
      ],
      "metadata": {
        "id": "c_OHiNn8JHKC"
      }
    },
    {
      "cell_type": "code",
      "execution_count": null,
      "metadata": {
        "id": "MtWRRengFNCH"
      },
      "outputs": [],
      "source": [
        "import pandas as pd\n",
        "import numpy as np\n",
        "import matplotlib.pyplot as plt"
      ]
    },
    {
      "cell_type": "markdown",
      "source": [
        "- Importing the Dataset and reading csv"
      ],
      "metadata": {
        "id": "ZvlP6692JLKS"
      }
    },
    {
      "cell_type": "code",
      "source": [
        "file_path = \"/content/housing_price_dataset.csv\"\n",
        "data = pd.read_csv(file_path)"
      ],
      "metadata": {
        "id": "6E8RqoOOIrTI"
      },
      "execution_count": null,
      "outputs": []
    },
    {
      "cell_type": "markdown",
      "source": [
        "- Checking if its loaded"
      ],
      "metadata": {
        "id": "ouvYJdPpJQJg"
      }
    },
    {
      "cell_type": "code",
      "source": [
        "data"
      ],
      "metadata": {
        "id": "JQDMwW3bI6CA"
      },
      "execution_count": null,
      "outputs": []
    },
    {
      "cell_type": "markdown",
      "source": [
        "- Creating Data Frame"
      ],
      "metadata": {
        "id": "JuBch9mCJVL4"
      }
    },
    {
      "cell_type": "code",
      "source": [
        "housing_price_df = pd.DataFrame(data)"
      ],
      "metadata": {
        "id": "YlVtE7VXJU3B"
      },
      "execution_count": null,
      "outputs": []
    },
    {
      "cell_type": "markdown",
      "source": [
        "- Checking data frame if its loaded"
      ],
      "metadata": {
        "id": "VYctdJtaJsmZ"
      }
    },
    {
      "cell_type": "code",
      "source": [
        "housing_price_df"
      ],
      "metadata": {
        "id": "aqaP75AyJe_R"
      },
      "execution_count": null,
      "outputs": []
    },
    {
      "cell_type": "markdown",
      "source": [
        "# Cleaning Data (I guess):\n",
        "\n",
        "- Let's create another column for the price per Square feet of the house"
      ],
      "metadata": {
        "id": "BeYz8vRvJz75"
      }
    },
    {
      "cell_type": "code",
      "source": [
        "housing_price_df[\"Price/SqFeet\"] = housing_price_df[\"Price\"] / housing_price_df[\"SquareFeet\"]"
      ],
      "metadata": {
        "id": "D6DTuAbKKGyQ"
      },
      "execution_count": null,
      "outputs": []
    },
    {
      "cell_type": "code",
      "source": [
        "housing_price_df"
      ],
      "metadata": {
        "id": "x32Pju7MLQvI"
      },
      "execution_count": null,
      "outputs": []
    },
    {
      "cell_type": "markdown",
      "source": [
        "- I think that Number of Bedrooms and Bathrooms are irrelevant so I Remove it to the data frame"
      ],
      "metadata": {
        "id": "DPvmYkT-PkbY"
      }
    },
    {
      "cell_type": "code",
      "source": [
        "housing_price_df.drop(columns= [\"Bedrooms\", \"Bathrooms\"], inplace = True)"
      ],
      "metadata": {
        "id": "hER0vTrYPs9A"
      },
      "execution_count": null,
      "outputs": []
    },
    {
      "cell_type": "code",
      "source": [
        "housing_price_df"
      ],
      "metadata": {
        "id": "T01yzJs1Qdtb"
      },
      "execution_count": null,
      "outputs": []
    },
    {
      "cell_type": "markdown",
      "source": [
        "- Lets seperate data of Rural and Suburb Houses"
      ],
      "metadata": {
        "id": "axA93rpsLeEw"
      }
    },
    {
      "cell_type": "code",
      "source": [
        "rural_price_df = pd.DataFrame(housing_price_df[housing_price_df[\"Neighborhood\"] == \"Rural\"])"
      ],
      "metadata": {
        "id": "D5cdcM4xLnW6"
      },
      "execution_count": null,
      "outputs": []
    },
    {
      "cell_type": "code",
      "source": [
        "rural_price_df # data of Rural Houses"
      ],
      "metadata": {
        "id": "LXmliRcbL6QS"
      },
      "execution_count": null,
      "outputs": []
    },
    {
      "cell_type": "code",
      "source": [
        "suburb_price_df = pd.DataFrame(housing_price_df[housing_price_df[\"Neighborhood\"] == \"Suburb\"])"
      ],
      "metadata": {
        "id": "KSYeK8ELNUAg"
      },
      "execution_count": null,
      "outputs": []
    },
    {
      "cell_type": "code",
      "source": [
        "suburb_price_df # Data of Suburb Houses"
      ],
      "metadata": {
        "id": "0YgaGxE6NZpX"
      },
      "execution_count": null,
      "outputs": []
    },
    {
      "cell_type": "markdown",
      "source": [
        "- Let's Check what is the most Expensive House depending to the neighborhood the House is in by average"
      ],
      "metadata": {
        "id": "rzz0r_esL58x"
      }
    },
    {
      "cell_type": "code",
      "source": [
        "rural_price_df[\"Price/SqFeet\"].mean()"
      ],
      "metadata": {
        "id": "rOj9zG-dNz-q"
      },
      "execution_count": null,
      "outputs": []
    },
    {
      "cell_type": "code",
      "source": [
        "suburb_price_df[\"Price/SqFeet\"].mean()"
      ],
      "metadata": {
        "id": "HMI6xihCOUK5"
      },
      "execution_count": null,
      "outputs": []
    },
    {
      "cell_type": "markdown",
      "source": [
        "- Now let's check the growth of the price of the per year of the Price per square Feet"
      ],
      "metadata": {
        "id": "IeTyyQGbPRAo"
      }
    },
    {
      "cell_type": "code",
      "source": [
        "years_of_built_rural = np.sort(rural_price_df['YearBuilt'].unique())"
      ],
      "metadata": {
        "id": "lFJ689CXQtUB"
      },
      "execution_count": null,
      "outputs": []
    },
    {
      "cell_type": "code",
      "source": [
        "years_of_built_rural"
      ],
      "metadata": {
        "id": "Y_ui77DKRm8f"
      },
      "execution_count": null,
      "outputs": []
    },
    {
      "cell_type": "code",
      "source": [
        "rural_growth_df = pd.DataFrame(years_of_built_rural, columns = [\"Year\"])"
      ],
      "metadata": {
        "id": "Fyr2pdvLTY1o"
      },
      "execution_count": null,
      "outputs": []
    },
    {
      "cell_type": "code",
      "source": [
        "rural_growth_df[\"Growth Mean\"] ="
      ],
      "metadata": {
        "id": "X8Du8hBcWMKC"
      },
      "execution_count": null,
      "outputs": []
    },
    {
      "cell_type": "code",
      "source": [
        "rural_growth_df"
      ],
      "metadata": {
        "id": "906mvuruS6Uw"
      },
      "execution_count": null,
      "outputs": []
    },
    {
      "cell_type": "markdown",
      "source": [
        "# Analysis"
      ],
      "metadata": {
        "id": "3q6oEUzhO4eY"
      }
    },
    {
      "cell_type": "code",
      "source": [],
      "metadata": {
        "id": "Xy6tG_4jOfCx"
      },
      "execution_count": null,
      "outputs": []
    }
  ]
}